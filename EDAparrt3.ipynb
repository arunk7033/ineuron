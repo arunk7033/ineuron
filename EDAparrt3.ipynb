{
 "cells": [
  {
   "cell_type": "code",
   "execution_count": 1,
   "id": "2f20627c-b691-41b5-881d-98cd164c8dac",
   "metadata": {},
   "outputs": [],
   "source": [
    "import numpy as np\n",
    "from statistics import mode"
   ]
  },
  {
   "cell_type": "code",
   "execution_count": 2,
   "id": "e3188b84-3b81-4200-a550-1c2da5ff309d",
   "metadata": {},
   "outputs": [],
   "source": [
    "population=np.random.randint(10,20,50)"
   ]
  },
  {
   "cell_type": "code",
   "execution_count": 3,
   "id": "bb287088-6aab-4139-9119-ea4a34db67b9",
   "metadata": {},
   "outputs": [
    {
     "data": {
      "text/plain": [
       "array([19, 19, 17, 12, 18, 11, 19, 12, 14, 13, 10, 18, 10, 18, 10, 12, 16,\n",
       "       12, 11, 10, 10, 14, 13, 18, 15, 15, 19, 15, 19, 16, 17, 15, 14, 15,\n",
       "       14, 19, 17, 10, 12, 14, 18, 15, 14, 13, 16, 13, 18, 16, 18, 11])"
      ]
     },
     "execution_count": 3,
     "metadata": {},
     "output_type": "execute_result"
    }
   ],
   "source": [
    "population"
   ]
  },
  {
   "cell_type": "code",
   "execution_count": 4,
   "id": "6f84357f-169e-4da7-aa0f-1bbbd75ddb99",
   "metadata": {},
   "outputs": [
    {
     "data": {
      "text/plain": [
       "14.68"
      ]
     },
     "execution_count": 4,
     "metadata": {},
     "output_type": "execute_result"
    }
   ],
   "source": [
    "np.mean(population)"
   ]
  },
  {
   "cell_type": "code",
   "execution_count": 5,
   "id": "7e1808e8-2e3f-42c3-a734-6ed1a9e98ff7",
   "metadata": {},
   "outputs": [
    {
     "data": {
      "text/plain": [
       "15.0"
      ]
     },
     "execution_count": 5,
     "metadata": {},
     "output_type": "execute_result"
    }
   ],
   "source": [
    "np.median(population)"
   ]
  },
  {
   "cell_type": "code",
   "execution_count": 6,
   "id": "61979008-a3ed-42c6-8206-f1f3a2665b02",
   "metadata": {},
   "outputs": [
    {
     "data": {
      "text/plain": [
       "18"
      ]
     },
     "execution_count": 6,
     "metadata": {},
     "output_type": "execute_result"
    }
   ],
   "source": [
    "mode(population)"
   ]
  },
  {
   "cell_type": "code",
   "execution_count": 7,
   "id": "1f17d1bb-1f57-46ca-a7da-3e1321c8eacf",
   "metadata": {},
   "outputs": [
    {
     "name": "stdout",
     "output_type": "stream",
     "text": [
      "mean of the population 14.68\n",
      "median of the population 15.0\n",
      "mode of the population 18\n"
     ]
    }
   ],
   "source": [
    "print(f\"mean of the population {np.mean(population)}\")\n",
    "print(f\"median of the population {np.median(population)}\")\n",
    "print(f\"mode of the population {mode(population)}\")"
   ]
  },
  {
   "cell_type": "code",
   "execution_count": 8,
   "id": "101ccbf8-b734-4ca6-a0e7-edaaadb0e9cf",
   "metadata": {},
   "outputs": [],
   "source": [
    "sample=np.random.choice(population,20)"
   ]
  },
  {
   "cell_type": "code",
   "execution_count": 9,
   "id": "d8e82043-3d8a-418b-af03-c1caa021e589",
   "metadata": {},
   "outputs": [
    {
     "name": "stdout",
     "output_type": "stream",
     "text": [
      "mean of the sample 13.15\n",
      "median of the sample 12.0\n",
      "mode of the sample 12\n"
     ]
    }
   ],
   "source": [
    "print(f\"mean of the sample {np.mean(sample)}\")\n",
    "print(f\"median of the sample {np.median(sample)}\")\n",
    "print(f\"mode of the sample {mode(sample)}\")"
   ]
  },
  {
   "cell_type": "code",
   "execution_count": 10,
   "id": "eb09c9bc-179d-4e92-8fca-b57687182417",
   "metadata": {},
   "outputs": [],
   "source": [
    "sample1=np.random.choice(population,20)\n",
    "sample2=np.random.choice(population,20)\n",
    "sample3=np.random.choice(population,20)\n",
    "sample4=np.random.choice(population,20)"
   ]
  },
  {
   "cell_type": "code",
   "execution_count": 11,
   "id": "19705a81-94b6-49f6-b0c6-cafd8a477a10",
   "metadata": {},
   "outputs": [
    {
     "name": "stdout",
     "output_type": "stream",
     "text": [
      "[19 18 15 19 12 19 17 14 15 10 15 18 12 12 16 18 14 11 14 18]\n",
      "============================================================\n",
      "[19 12 10 10 19 13 18 17 18 12 16 19 12 14 14 10 12 15 19 17]\n",
      "============================================================\n",
      "[17 12 16 13 19 18 18 15 10 15 17 19 10 19 15 11 18 18 18 12]\n",
      "============================================================\n",
      "[10 10 14 19 10 19 16 19 19 11 15 19 18 10 14 10 18 19 14 13]\n"
     ]
    }
   ],
   "source": [
    "print(sample1)\n",
    "print(60*\"=\")\n",
    "print(sample2)\n",
    "print(60*\"=\")\n",
    "print(sample3)\n",
    "print(60*\"=\")\n",
    "print(sample4)"
   ]
  },
  {
   "cell_type": "code",
   "execution_count": 12,
   "id": "d591d6f0-323f-416c-92b4-40ff0303b18a",
   "metadata": {},
   "outputs": [],
   "source": [
    "mean_of_samples=[]\n",
    "\n",
    "all_sample=[sample1,sample2,sample3,sample4]\n",
    "\n",
    "for sample in all_sample:\n",
    "    mean_of_samples.append(np.mean(sample))"
   ]
  },
  {
   "cell_type": "code",
   "execution_count": 13,
   "id": "8c937be6-aaf2-412c-aa8b-a65f24fe6948",
   "metadata": {},
   "outputs": [
    {
     "data": {
      "text/plain": [
       "[15.3, 14.8, 15.5, 14.85]"
      ]
     },
     "execution_count": 13,
     "metadata": {},
     "output_type": "execute_result"
    }
   ],
   "source": [
    "mean_of_samples"
   ]
  },
  {
   "cell_type": "code",
   "execution_count": 14,
   "id": "730b9013-2ebb-45f2-bd9e-5a6e48c468d0",
   "metadata": {},
   "outputs": [],
   "source": [
    "# central limit theorem"
   ]
  },
  {
   "cell_type": "code",
   "execution_count": 15,
   "id": "e7cdc31e-f411-42dc-97b9-b47ae254bd57",
   "metadata": {},
   "outputs": [],
   "source": [
    "population=np.random.binomial(10,0.5,10000)"
   ]
  },
  {
   "cell_type": "code",
   "execution_count": 16,
   "id": "b821e638-682b-4284-af75-6db90c20b0ad",
   "metadata": {},
   "outputs": [
    {
     "name": "stdout",
     "output_type": "stream",
     "text": [
      "[7 3 8 ... 0 5 1]\n"
     ]
    }
   ],
   "source": [
    "print(population)"
   ]
  },
  {
   "cell_type": "code",
   "execution_count": 17,
   "id": "cd597ffc-1dbf-47ab-b0f6-082c59cdbe88",
   "metadata": {},
   "outputs": [
    {
     "data": {
      "text/plain": [
       "10000"
      ]
     },
     "execution_count": 17,
     "metadata": {},
     "output_type": "execute_result"
    }
   ],
   "source": [
    "len(population)"
   ]
  },
  {
   "cell_type": "code",
   "execution_count": 18,
   "id": "9b44ab69-7be6-496b-9cc0-2377441c3246",
   "metadata": {},
   "outputs": [
    {
     "name": "stderr",
     "output_type": "stream",
     "text": [
      "/tmp/ipykernel_83/2113714884.py:2: UserWarning: \n",
      "\n",
      "`distplot` is a deprecated function and will be removed in seaborn v0.14.0.\n",
      "\n",
      "Please adapt your code to use either `displot` (a figure-level function with\n",
      "similar flexibility) or `histplot` (an axes-level function for histograms).\n",
      "\n",
      "For a guide to updating your code to use the new functions, please see\n",
      "https://gist.github.com/mwaskom/de44147ed2974457ad6372750bbe5751\n",
      "\n",
      "  sns.distplot(population)\n"
     ]
    },
    {
     "data": {
      "text/plain": [
       "<AxesSubplot: ylabel='Density'>"
      ]
     },
     "execution_count": 18,
     "metadata": {},
     "output_type": "execute_result"
    },
    {
     "data": {
      "image/png": "[encoded data removed]",
      "text/plain": [
       "<Figure size 640x480 with 1 Axes>"
      ]
     },
     "metadata": {},
     "output_type": "display_data"
    }
   ],
   "source": [
    "import seaborn as sns\n",
    "sns.distplot(population)"
   ]
  },
  {
   "cell_type": "code",
   "execution_count": 19,
   "id": "bd378405-483e-4a75-afab-f6dae5e5f3a4",
   "metadata": {},
   "outputs": [
    {
     "data": {
      "text/plain": [
       "10000"
      ]
     },
     "execution_count": 19,
     "metadata": {},
     "output_type": "execute_result"
    }
   ],
   "source": [
    "len(population)"
   ]
  },
  {
   "cell_type": "code",
   "execution_count": 20,
   "id": "7fe9774a-9d9a-4b9a-9d9a-79ec8a8d23f6",
   "metadata": {},
   "outputs": [
    {
     "data": {
      "text/plain": [
       "3000"
      ]
     },
     "execution_count": 20,
     "metadata": {},
     "output_type": "execute_result"
    }
   ],
   "source": [
    "int(len(population)*0.30)"
   ]
  },
  {
   "cell_type": "code",
   "execution_count": 21,
   "id": "4dc0dc8e-820f-4ee8-ab9f-59fb7a892d34",
   "metadata": {},
   "outputs": [],
   "source": [
    "size=int(len(population)*0.30)"
   ]
  },
  {
   "cell_type": "code",
   "execution_count": 22,
   "id": "e200a945-0822-4c45-b245-a901695c98ec",
   "metadata": {},
   "outputs": [],
   "source": [
    "sample_mean=[]\n",
    "for i in range(1,31):\n",
    "    sample=np.random.choice(population,size=size)\n",
    "    sample_mean.append(np.mean(sample))"
   ]
  },
  {
   "cell_type": "code",
   "execution_count": 23,
   "id": "2f5b6c21-99bc-4d72-b1ef-7216cbd54ec0",
   "metadata": {},
   "outputs": [
    {
     "data": {
      "text/plain": [
       "[5.008666666666667,\n",
       " 5.007,\n",
       " 5.017,\n",
       " 4.947,\n",
       " 5.019333333333333,\n",
       " 4.993666666666667,\n",
       " 4.965333333333334,\n",
       " 4.963,\n",
       " 4.960333333333334,\n",
       " 4.997333333333334,\n",
       " 5.007,\n",
       " 4.983666666666666,\n",
       " 4.986666666666666,\n",
       " 4.987333333333333,\n",
       " 5.000333333333334,\n",
       " 4.953,\n",
       " 5.019,\n",
       " 4.98,\n",
       " 5.016666666666667,\n",
       " 4.972666666666667,\n",
       " 5.038666666666667,\n",
       " 4.993333333333333,\n",
       " 4.987333333333333,\n",
       " 4.987,\n",
       " 4.972666666666667,\n",
       " 4.995333333333333,\n",
       " 4.990666666666667,\n",
       " 4.949,\n",
       " 4.960666666666667,\n",
       " 4.99]"
      ]
     },
     "execution_count": 23,
     "metadata": {},
     "output_type": "execute_result"
    }
   ],
   "source": [
    "sample_mean"
   ]
  },
  {
   "cell_type": "code",
   "execution_count": 24,
   "id": "edb1a3d3-9a49-45ab-967e-471583bc813c",
   "metadata": {},
   "outputs": [
    {
     "name": "stderr",
     "output_type": "stream",
     "text": [
      "/tmp/ipykernel_83/514007480.py:1: UserWarning: \n",
      "\n",
      "`distplot` is a deprecated function and will be removed in seaborn v0.14.0.\n",
      "\n",
      "Please adapt your code to use either `displot` (a figure-level function with\n",
      "similar flexibility) or `histplot` (an axes-level function for histograms).\n",
      "\n",
      "For a guide to updating your code to use the new functions, please see\n",
      "https://gist.github.com/mwaskom/de44147ed2974457ad6372750bbe5751\n",
      "\n",
      "  sns.distplot(sample_mean)\n"
     ]
    },
    {
     "data": {
      "text/plain": [
       "<AxesSubplot: ylabel='Density'>"
      ]
     },
     "execution_count": 24,
     "metadata": {},
     "output_type": "execute_result"
    },
    {
     "data": {
      "image/png": "[encoded data removed]",
      "text/plain": [
       "<Figure size 640x480 with 1 Axes>"
      ]
     },
     "metadata": {},
     "output_type": "display_data"
    }
   ],
   "source": [
    "sns.distplot(sample_mean)"
   ]
  },
  {
   "cell_type": "code",
   "execution_count": 25,
   "id": "4721c42d-b0ef-40bc-b2da-c2069735f174",
   "metadata": {},
   "outputs": [],
   "source": [
    "sample_mean=[]\n",
    "for i in range(1,100):\n",
    "    sample=np.random.choice(population,size=size)\n",
    "    sample_mean.append(np.mean(sample))"
   ]
  },
  {
   "cell_type": "code",
   "execution_count": 26,
   "id": "10b2fcf1-3d6f-4b91-a8a0-e42e5c0bbc06",
   "metadata": {},
   "outputs": [
    {
     "name": "stderr",
     "output_type": "stream",
     "text": [
      "/tmp/ipykernel_83/514007480.py:1: UserWarning: \n",
      "\n",
      "`distplot` is a deprecated function and will be removed in seaborn v0.14.0.\n",
      "\n",
      "Please adapt your code to use either `displot` (a figure-level function with\n",
      "similar flexibility) or `histplot` (an axes-level function for histograms).\n",
      "\n",
      "For a guide to updating your code to use the new functions, please see\n",
      "https://gist.github.com/mwaskom/de44147ed2974457ad6372750bbe5751\n",
      "\n",
      "  sns.distplot(sample_mean)\n"
     ]
    },
    {
     "data": {
      "text/plain": [
       "<AxesSubplot: ylabel='Density'>"
      ]
     },
     "execution_count": 26,
     "metadata": {},
     "output_type": "execute_result"
    },
    {
     "data": {
      "image/png": "[encoded data removed]",
      "text/plain": [
       "<Figure size 640x480 with 1 Axes>"
      ]
     },
     "metadata": {},
     "output_type": "display_data"
    }
   ],
   "source": [
    "sns.distplot(sample_mean)"
   ]
  },
  {
   "cell_type": "code",
   "execution_count": 27,
   "id": "b018cf2d-2088-42c2-9c00-c8d043193870",
   "metadata": {},
   "outputs": [],
   "source": [
    "sample_mean=[]\n",
    "for i in range(1,501):\n",
    "    sample=np.random.choice(population,size=size)\n",
    "    sample_mean.append(np.mean(sample))"
   ]
  },
  {
   "cell_type": "code",
   "execution_count": 28,
   "id": "736b9d69-8c18-4d8d-85b4-a11e3af25986",
   "metadata": {},
   "outputs": [
    {
     "name": "stderr",
     "output_type": "stream",
     "text": [
      "/tmp/ipykernel_83/337523016.py:1: UserWarning: \n",
      "\n",
      "`distplot` is a deprecated function and will be removed in seaborn v0.14.0.\n",
      "\n",
      "Please adapt your code to use either `displot` (a figure-level function with\n",
      "similar flexibility) or `histplot` (an axes-level function for histograms).\n",
      "\n",
      "For a guide to updating your code to use the new functions, please see\n",
      "https://gist.github.com/mwaskom/de44147ed2974457ad6372750bbe5751\n",
      "\n",
      "  sns.distplot(sample_mean,kde=True,color=\"red\")\n"
     ]
    },
    {
     "data": {
      "text/plain": [
       "<AxesSubplot: ylabel='Density'>"
      ]
     },
     "execution_count": 28,
     "metadata": {},
     "output_type": "execute_result"
    },
    {
     "data": {
      "image/png": "[encoded data removed]",
      "text/plain": [
       "<Figure size 640x480 with 1 Axes>"
      ]
     },
     "metadata": {},
     "output_type": "display_data"
    }
   ],
   "source": [
    "sns.distplot(sample_mean,kde=True,color=\"red\")"
   ]
  },
  {
   "cell_type": "code",
   "execution_count": 29,
   "id": "154c5a03-e794-4993-a0b4-3020ec689e3b",
   "metadata": {},
   "outputs": [],
   "source": [
    "sample_mean=[]\n",
    "for i in range(1,1000):\n",
    "    sample=np.random.choice(population,size=size)\n",
    "    sample_mean.append(np.mean(sample))"
   ]
  },
  {
   "cell_type": "code",
   "execution_count": 30,
   "id": "a4fbdc4a-ef49-4df7-9d07-3a757b54c2f5",
   "metadata": {},
   "outputs": [
    {
     "name": "stderr",
     "output_type": "stream",
     "text": [
      "/tmp/ipykernel_83/514007480.py:1: UserWarning: \n",
      "\n",
      "`distplot` is a deprecated function and will be removed in seaborn v0.14.0.\n",
      "\n",
      "Please adapt your code to use either `displot` (a figure-level function with\n",
      "similar flexibility) or `histplot` (an axes-level function for histograms).\n",
      "\n",
      "For a guide to updating your code to use the new functions, please see\n",
      "https://gist.github.com/mwaskom/de44147ed2974457ad6372750bbe5751\n",
      "\n",
      "  sns.distplot(sample_mean)\n"
     ]
    },
    {
     "data": {
      "text/plain": [
       "<AxesSubplot: ylabel='Density'>"
      ]
     },
     "execution_count": 30,
     "metadata": {},
     "output_type": "execute_result"
    },
    {
     "data": {
      "image/png": "[encoded data removed]",
      "text/plain": [
       "<Figure size 640x480 with 1 Axes>"
      ]
     },
     "metadata": {},
     "output_type": "display_data"
    }
   ],
   "source": [
    "sns.distplot(sample_mean)"
   ]
  },
  {
   "cell_type": "code",
   "execution_count": 31,
   "id": "caa3af0e-a83c-4deb-b928-ecc555a399a9",
   "metadata": {},
   "outputs": [
    {
     "data": {
      "text/plain": [
       "4.9781074407741075"
      ]
     },
     "execution_count": 31,
     "metadata": {},
     "output_type": "execute_result"
    }
   ],
   "source": [
    "np.mean(sample_mean)"
   ]
  },
  {
   "cell_type": "code",
   "execution_count": 32,
   "id": "70fc919f-a10e-4f27-96e1-d0a6d0bfcc95",
   "metadata": {},
   "outputs": [],
   "source": [
    "# confidence interval and margin of error"
   ]
  },
  {
   "cell_type": "code",
   "execution_count": 33,
   "id": "e5db0fbd-4a84-4cd5-ab26-3a903c263e67",
   "metadata": {},
   "outputs": [],
   "source": [
    "population=np.random.randint(10,20,50)"
   ]
  },
  {
   "cell_type": "code",
   "execution_count": 34,
   "id": "b5b4d9d4-c56a-47c3-864d-3cbc71c5370a",
   "metadata": {},
   "outputs": [
    {
     "data": {
      "text/plain": [
       "array([12, 13, 13, 10, 10, 19, 14, 12, 17, 10, 10, 13, 15, 12, 11, 17, 13,\n",
       "       11, 12, 18, 19, 19, 19, 16, 15, 15, 19, 17, 15, 19, 18, 13, 16, 12,\n",
       "       11, 12, 18, 15, 18, 14, 16, 12, 16, 14, 13, 15, 17, 18, 10, 15])"
      ]
     },
     "execution_count": 34,
     "metadata": {},
     "output_type": "execute_result"
    }
   ],
   "source": [
    "population"
   ]
  },
  {
   "cell_type": "code",
   "execution_count": 35,
   "id": "d5c8faec-06f7-4cc8-9b8e-e6c14e0e7871",
   "metadata": {},
   "outputs": [],
   "source": [
    "sample1=np.random.choice(population,20)\n",
    "sample2=np.random.choice(population,20)\n",
    "sample3=np.random.choice(population,20)\n",
    "sample4=np.random.choice(population,20)"
   ]
  },
  {
   "cell_type": "code",
   "execution_count": 36,
   "id": "db5352b7-7f66-47b0-b837-5231bb6141d4",
   "metadata": {},
   "outputs": [],
   "source": [
    "mean_of_samples=[]\n",
    "\n",
    "all_sample=[sample1,sample2,sample3,sample4]\n",
    "\n",
    "for sample in all_sample:\n",
    "    mean_of_samples.append(np.mean(sample))"
   ]
  },
  {
   "cell_type": "code",
   "execution_count": 37,
   "id": "a886d5bb-0be8-4457-9bfa-575d051aebd8",
   "metadata": {},
   "outputs": [],
   "source": [
    "import scipy.stats as stats"
   ]
  },
  {
   "cell_type": "code",
   "execution_count": 38,
   "id": "1ba09158-714a-49b3-ba6f-474e6c0f82d2",
   "metadata": {},
   "outputs": [],
   "source": [
    "#stats.norm.ppf(q=0.95)\n",
    "#stats.norm.ppf(q=0.975)\n",
    "#stats.norm.ppf(q=0.99)"
   ]
  },
  {
   "cell_type": "code",
   "execution_count": null,
   "id": "31ba09e5-0e9c-47d8-b834-6c7bd6aa9b04",
   "metadata": {},
   "outputs": [],
   "source": [
    "#ppf: Probability density function"
   ]
  },
  {
   "cell_type": "code",
   "execution_count": 39,
   "id": "48133f0a-86e7-4679-96dd-8bd27f9d4bb1",
   "metadata": {},
   "outputs": [],
   "source": [
    "z_critical = stats.norm.ppf(q=0.975)"
   ]
  },
  {
   "cell_type": "code",
   "execution_count": 40,
   "id": "ee2f02ff-97b5-4383-b371-bbf515d2d6d6",
   "metadata": {},
   "outputs": [],
   "source": [
    "t_critical = stats.t.ppf(q=0.975,df=24)"
   ]
  },
  {
   "cell_type": "code",
   "execution_count": 41,
   "id": "2dec58f1-a020-4a66-90df-bf830f475a7d",
   "metadata": {},
   "outputs": [],
   "source": [
    "margin_of_error = z_critical * (np.std(mean_of_samples)/np.sqrt(20))"
   ]
  },
  {
   "cell_type": "code",
   "execution_count": 42,
   "id": "176b429f-addc-4e4e-8005-732d2700cd68",
   "metadata": {},
   "outputs": [
    {
     "data": {
      "text/plain": [
       "14.262831687988918"
      ]
     },
     "execution_count": 42,
     "metadata": {},
     "output_type": "execute_result"
    }
   ],
   "source": [
    "np.mean(mean_of_samples)-margin_of_error"
   ]
  },
  {
   "cell_type": "code",
   "execution_count": 44,
   "id": "fc9515c5-02d7-497f-8665-625f2dc26721",
   "metadata": {},
   "outputs": [],
   "source": [
    "# Z-test"
   ]
  },
  {
   "cell_type": "code",
   "execution_count": 49,
   "id": "3cee288b-b02a-4514-8248-7bb46d16da8d",
   "metadata": {},
   "outputs": [],
   "source": [
    "from numpy.random import randn\n",
    "population=randn(100)"
   ]
  },
  {
   "cell_type": "code",
   "execution_count": 50,
   "id": "d604f1e8-016a-40b9-9b3d-4e53bf502270",
   "metadata": {},
   "outputs": [
    {
     "data": {
      "text/plain": [
       "array([-1.29158755,  1.5572548 , -1.25425584,  1.47873122, -1.12067044,\n",
       "        1.73603698, -0.73227117,  0.50874885,  1.19429448,  0.31885948,\n",
       "       -0.95650918, -1.25647544, -0.46170173, -0.18857634, -1.12981367,\n",
       "       -0.66745483,  0.6094652 , -0.24505692,  1.70115071, -0.83177632,\n",
       "        1.88516123, -1.70917917,  0.3584472 ,  1.34987463,  0.65979308,\n",
       "        1.69031835, -0.80962081, -1.49919935,  0.10353533,  1.32389871,\n",
       "        1.13478682,  2.26904582,  0.3562064 ,  1.13435455, -1.28911276,\n",
       "       -0.37022933, -2.13356161, -1.69504416, -0.157919  , -0.1760341 ,\n",
       "        0.12503335,  0.339141  , -0.1098765 , -0.57748072, -0.59363424,\n",
       "       -0.749867  , -1.08923334,  0.66422492,  0.69081319,  0.96397237,\n",
       "        0.02382588,  0.88320408, -1.56149657,  1.18291684,  1.88665378,\n",
       "        1.3755952 , -0.64687313, -0.04161365,  1.06974716,  0.08291921,\n",
       "        0.02281574, -0.03251761, -0.98368057, -0.20738206,  0.69114225,\n",
       "        1.89370163,  1.65936079, -0.67648658,  0.60210761, -0.62675835,\n",
       "       -0.2044673 ,  0.16222531,  2.01533683,  1.35250918,  0.76087374,\n",
       "        1.84616285,  1.28981806, -1.53445927, -0.52359986, -0.92519414,\n",
       "        1.3349864 , -0.0897485 , -1.10881323,  1.33566116,  0.10666292,\n",
       "        1.113128  , -1.21749991,  1.86630844,  0.82748102,  1.56968532,\n",
       "        0.01378652,  0.96376035,  0.39219169, -0.87585866,  0.33413977,\n",
       "        0.85851274, -0.46593768,  0.18935671, -1.15199241,  0.10084665])"
      ]
     },
     "execution_count": 50,
     "metadata": {},
     "output_type": "execute_result"
    }
   ],
   "source": [
    "population"
   ]
  },
  {
   "cell_type": "code",
   "execution_count": 51,
   "id": "fc0812a4-7be1-4445-b9c5-3512f03009ce",
   "metadata": {},
   "outputs": [
    {
     "name": "stderr",
     "output_type": "stream",
     "text": [
      "/tmp/ipykernel_83/2958836585.py:1: UserWarning: \n",
      "\n",
      "`distplot` is a deprecated function and will be removed in seaborn v0.14.0.\n",
      "\n",
      "Please adapt your code to use either `displot` (a figure-level function with\n",
      "similar flexibility) or `histplot` (an axes-level function for histograms).\n",
      "\n",
      "For a guide to updating your code to use the new functions, please see\n",
      "https://gist.github.com/mwaskom/de44147ed2974457ad6372750bbe5751\n",
      "\n",
      "  sns.distplot(population)\n"
     ]
    },
    {
     "data": {
      "text/plain": [
       "<AxesSubplot: ylabel='Density'>"
      ]
     },
     "execution_count": 51,
     "metadata": {},
     "output_type": "execute_result"
    },
    {
     "data": {
      "image/png": "[encoded data removed]",
      "text/plain": [
       "<Figure size 640x480 with 1 Axes>"
      ]
     },
     "metadata": {},
     "output_type": "display_data"
    }
   ],
   "source": [
    "sns.distplot(population)"
   ]
  },
  {
   "cell_type": "code",
   "execution_count": 52,
   "id": "7282dbc7-a6dd-4504-a83c-0f331872eb81",
   "metadata": {},
   "outputs": [
    {
     "name": "stdout",
     "output_type": "stream",
     "text": [
      "here is a mean of the population: 0.17990051531837659,here is a std dev 1.0576683545370946\n"
     ]
    }
   ],
   "source": [
    "print(f\"here is a mean of the population: {np.mean(population)},here is a std dev {np.std(population)}\")"
   ]
  },
  {
   "cell_type": "code",
   "execution_count": 53,
   "id": "96efd0e5-b01a-49d9-8358-967d6a6bce5c",
   "metadata": {},
   "outputs": [],
   "source": [
    "null_mean= 0.022"
   ]
  },
  {
   "cell_type": "code",
   "execution_count": 54,
   "id": "977f76ed-bccf-43ed-b22e-c4e8ec1b2a77",
   "metadata": {},
   "outputs": [],
   "source": [
    "# C.I=95%\n",
    "# ALPHA=0.05(5%)"
   ]
  },
  {
   "cell_type": "code",
   "execution_count": 55,
   "id": "24ebf0b5-4350-43c7-93ef-c5ae8ea723f5",
   "metadata": {},
   "outputs": [],
   "source": [
    "# P<=0.05   #REJECT THE NULL HYPHOTHESIS\n",
    "# P>0.05    #YOU ARE GOING TO ACCEPT THE NULL HYPHOTEIS"
   ]
  },
  {
   "cell_type": "code",
   "execution_count": null,
   "id": "b8c77cb5-fd95-4fb2-9193-85b4648da2fd",
   "metadata": {},
   "outputs": [],
   "source": [
    "# P<=ALPHA\n",
    "# P>ALPHA"
   ]
  },
  {
   "cell_type": "code",
   "execution_count": 56,
   "id": "ac5c6693-1c40-4528-b144-d271fde38f7b",
   "metadata": {},
   "outputs": [],
   "source": [
    "ALPHA=0.05"
   ]
  },
  {
   "cell_type": "code",
   "execution_count": 57,
   "id": "f618e104-2721-45c6-bc4c-229ddeff028f",
   "metadata": {},
   "outputs": [],
   "source": [
    "from statsmodels.stats.weightstats import ztest\n",
    "z_score,p_value=ztest(population,value=null_mean,alternative='larger')"
   ]
  },
  {
   "cell_type": "code",
   "execution_count": 58,
   "id": "d2428fd6-c0dd-4976-bab7-f90815d62060",
   "metadata": {},
   "outputs": [
    {
     "data": {
      "text/plain": [
       "1.4854280964396194"
      ]
     },
     "execution_count": 58,
     "metadata": {},
     "output_type": "execute_result"
    }
   ],
   "source": [
    "z_score"
   ]
  },
  {
   "cell_type": "code",
   "execution_count": null,
   "id": "157dd934-a68f-4565-82d5-d297d2553135",
   "metadata": {},
   "outputs": [],
   "source": []
  }
 ],
 "metadata": {
  "kernelspec": {
   "display_name": "Python 3 (ipykernel)",
   "language": "python",
   "name": "python3"
  },
  "language_info": {
   "codemirror_mode": {
    "name": "ipython",
    "version": 3
   },
   "file_extension": ".py",
   "mimetype": "text/x-python",
   "name": "python",
   "nbconvert_exporter": "python",
   "pygments_lexer": "ipython3",
   "version": "3.10.6"
  }
 },
 "nbformat": 4,
 "nbformat_minor": 5
}
