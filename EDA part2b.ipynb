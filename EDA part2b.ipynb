{
 "cells": [
  {
   "cell_type": "code",
   "execution_count": 1,
   "id": "02616b48-c1cf-4394-bef3-37da82795d16",
   "metadata": {},
   "outputs": [],
   "source": [
    "import pandas as pd"
   ]
  },
  {
   "cell_type": "code",
   "execution_count": 2,
   "id": "836edaf7-1be3-4ba2-8fa9-f4353694b468",
   "metadata": {},
   "outputs": [],
   "source": [
    "data=pd.read_csv(\"https://raw.githubusercontent.com/sunnysavita10/Statistics-With-Python-TheCompleteGuide/main/clead_google_playstore_data\")"
   ]
  },
  {
   "cell_type": "code",
   "execution_count": null,
   "id": "98492e11-3c18-405d-acb7-0ac6a8897cee",
   "metadata": {},
   "outputs": [],
   "source": [
    "apps=[\"GAME\",\"PRODUCTIVITY\",\"SOCIAL\",\"COMMUNICATION\"]\n",
    "sns.set_context(\"poster\")\n",
    "sns.set_style(\"darkgrid\")\n",
    "\n",
    "plt.figure(figsize=(40,30))\n",
    "\n",
    "for i,app in enumerate(apps):\n",
    "    df2=dfa[dfa.Category==app]\n",
    "    df3=df2.head(5)\n",
    "    plt.subplot(4,2,i+1)\n",
    "    sns.barplot(data=df3,x=\"Installs\",y=\"App\")\n",
    "    plt.xlabel(\"Installation in millions\")\n",
    "    plt.ylabel(\"\")\n",
    "    plt.title(app,size=20)\n",
    "plt.tight_layout()\n",
    "plt.subplots_adjust(hspace=.3)\n",
    "plt.show()"
   ]
  },
  {
   "cell_type": "code",
   "execution_count": null,
   "id": "c91d2d78-48e7-43da-a09f-9c5020668285",
   "metadata": {},
   "outputs": [],
   "source": [
    "#How many apps are there on Google Playstore which get 5 rating?"
   ]
  },
  {
   "cell_type": "code",
   "execution_count": null,
   "id": "e5ca4868-edc9-4c9e-a8f4-b99376f5dd29",
   "metadata": {},
   "outputs": [],
   "source": [
    "df.groupby([\"App\"])[\"Rating\"].sum()"
   ]
  },
  {
   "cell_type": "code",
   "execution_count": null,
   "id": "e1b0f086-a9d6-46ec-815f-2e816f6e50c2",
   "metadata": {},
   "outputs": [],
   "source": [
    "df.groupby([\"App\"])[\"Rating\"].sum().reset_index()"
   ]
  },
  {
   "cell_type": "code",
   "execution_count": null,
   "id": "8999e662-90cf-459c-8d7e-e4f5ee52ca3f",
   "metadata": {},
   "outputs": [],
   "source": [
    "rating=df.groupby([\"App\"])[\"Rating\"].sum().sort_values(ascending=False).reset_index()"
   ]
  },
  {
   "cell_type": "code",
   "execution_count": null,
   "id": "d704f2f3-31fa-45dd-9adc-ece1485792ca",
   "metadata": {},
   "outputs": [],
   "source": [
    "rating[rating.Rating==5.0]"
   ]
  },
  {
   "cell_type": "code",
   "execution_count": null,
   "id": "37f65c60-f721-45e5-814e-d03a5d7d20de",
   "metadata": {},
   "outputs": [],
   "source": [
    "rating2=df.groupby([\"Category\",\"Installs\",\"App\"])[\"Rating\"].sum().sort_values(ascending=False).reset_index()"
   ]
  },
  {
   "cell_type": "code",
   "execution_count": null,
   "id": "c4f5374d-1106-463a-b713-b12f2861607d",
   "metadata": {},
   "outputs": [],
   "source": [
    "rating2"
   ]
  },
  {
   "cell_type": "code",
   "execution_count": null,
   "id": "8cd23c90-3a25-46f8-85c7-8518449c94e7",
   "metadata": {},
   "outputs": [],
   "source": [
    "df.groupby([\"App\"])[\"Rating\"].count().sort_values(ascending=False).reset_index()"
   ]
  },
  {
   "cell_type": "code",
   "execution_count": null,
   "id": "98bc1c52-9a74-445c-9c99-fffdbea8b538",
   "metadata": {},
   "outputs": [],
   "source": [
    "df.groupby([\"App\"])[\"Rating\"].mean().sort_values(ascending=False).reset_index()"
   ]
  },
  {
   "cell_type": "code",
   "execution_count": null,
   "id": "c1b37079-eb73-4557-8c0a-2371f5b61d26",
   "metadata": {},
   "outputs": [],
   "source": [
    "df.groupby([\"App\"])[\"Rating\"].mean().sort_values(ascending=False).reset_index().shape"
   ]
  },
  {
   "cell_type": "code",
   "execution_count": null,
   "id": "16ed9d2d-799b-480d-b293-1676c3fe66b1",
   "metadata": {},
   "outputs": [],
   "source": [
    "plt.figure(figsize=(15,15))\n",
    "sns.scatterplot(data=df,y=\"Category\",x=\"Price\")"
   ]
  },
  {
   "cell_type": "code",
   "execution_count": null,
   "id": "6c758e29-9364-4eb9-83df-ccdca7a7353e",
   "metadata": {},
   "outputs": [],
   "source": [
    "#Which category app users are reviewing the most?"
   ]
  },
  {
   "cell_type": "code",
   "execution_count": null,
   "id": "05ec74d7-0435-40ea-b779-eccdfbfbfb79",
   "metadata": {},
   "outputs": [],
   "source": [
    "df.head(1)"
   ]
  },
  {
   "cell_type": "code",
   "execution_count": null,
   "id": "001b8f40-b174-422d-94c1-0c0084dbb906",
   "metadata": {},
   "outputs": [],
   "source": [
    "df.groupby([\"Category\",\"App\"])[\"Reviews\"].sum().reset_index()"
   ]
  },
  {
   "cell_type": "code",
   "execution_count": null,
   "id": "80480c83-94b2-4696-a45f-5959952b7afd",
   "metadata": {},
   "outputs": [],
   "source": [
    "df.groupby(\"Category\").agg({\"Installs\":\"sum\",\"Reviews\":\"sum\"}).reset_index()"
   ]
  },
  {
   "cell_type": "code",
   "execution_count": null,
   "id": "9ebc5a67-7733-46c5-932d-6976f91b3b7e",
   "metadata": {},
   "outputs": [],
   "source": [
    "df.groupby(\"Type\").agg({\"Installs\":sum})"
   ]
  },
  {
   "cell_type": "code",
   "execution_count": null,
   "id": "b86b250c-10b4-4889-93e0-bd4cba441b0e",
   "metadata": {},
   "outputs": [],
   "source": [
    "fig, ax = plt.subplots(1,2,figsize=(20,7))\n",
    "df.value_counts('Type').plot.pie(y='Type',startangle=90, explode=(0.2,0),\n",
    "title='Percentage of the Free App and Paid App', legend=False, autopct='%.2f',\n",
    "ax=ax[0])\n",
    "ax[0].set(ylabel='Type of Apps')\n",
    "df.groupby('Type').agg({'Installs':sum}).plot.pie(y='Installs', startangle=90,\n",
    "explode=(0.2,0), title='Percentage of Installs Number for Free App and Paid App',\n",
    "legend=False, autopct='%.2f', ax=ax[1])"
   ]
  },
  {
   "cell_type": "code",
   "execution_count": null,
   "id": "5613ca60-40de-4062-9e68-b57e84f08752",
   "metadata": {},
   "outputs": [],
   "source": [
    "df.groupby('Type').agg({'Installs':sum}).plot.pie(y='Installs')"
   ]
  },
  {
   "cell_type": "code",
   "execution_count": null,
   "id": "8f2f36e7-3b9c-45ca-a730-cec0972f8b94",
   "metadata": {},
   "outputs": [],
   "source": [
    "plt.figure(figsize=(10,10))\n",
    "sns.boxplot(x=\"Installs\",y=\"Rating\",data=df)\n",
    "plt.xticks(size=15,rotation=90)\n",
    "plt.show()"
   ]
  },
  {
   "cell_type": "code",
   "execution_count": null,
   "id": "a96a23f5-c1bc-48f7-8f39-7592c1c3efed",
   "metadata": {},
   "outputs": [],
   "source": [
    "plt.figure(figsize=(10,10))\n",
    "sns.boxplot(x=\"Category\",y=\"Rating\",data=df)\n",
    "plt.xticks(size=15,rotation=90)\n",
    "plt.show()"
   ]
  },
  {
   "cell_type": "code",
   "execution_count": null,
   "id": "899e29a9-40a7-4f1c-8dcb-ce81575b3804",
   "metadata": {},
   "outputs": [],
   "source": [
    "#Which category apps are of largest size?"
   ]
  },
  {
   "cell_type": "code",
   "execution_count": null,
   "id": "b30130df-3ce7-49cf-8918-55c3a594e948",
   "metadata": {},
   "outputs": [],
   "source": [
    "plt.figure(figsize=(15,15))\n",
    "plt.xticks(rotation = 90)\n",
    "sns.barplot(x=\"Category\",y=\"Size\",data=df)\n",
    "plt.show()"
   ]
  },
  {
   "cell_type": "code",
   "execution_count": null,
   "id": "09e1ad0e-df03-4f8d-8b04-ba1f458ff064",
   "metadata": {},
   "outputs": [],
   "source": [
    "plt.figure(figsize=(15,8))\n",
    "sns.countplot(x='Rating',data = df,palette=\"Set1_r\")\n",
    "plt.xticks(rotation =90)\n",
    "plt.title('Countplot for ratings')\n",
    "plt.show()"
   ]
  },
  {
   "cell_type": "code",
   "execution_count": null,
   "id": "2fc6d1c2-733b-40da-97a4-c6cb49411a53",
   "metadata": {},
   "outputs": [],
   "source": [
    "plt.subplots(figsize=(20,10))\n",
    "freq= pd.Series()\n",
    "freq=df['year'].value_counts()\n",
    "freq.plot()\n",
    "plt.xlabel(\"Dates\")\n",
    "plt.ylabel(\"Number of updates\")\n",
    "plt.title(\"Time series plot of Last Updates\")"
   ]
  },
  {
   "cell_type": "code",
   "execution_count": null,
   "id": "63a73e44-af32-4c40-ac42-6ac1e5e8db50",
   "metadata": {},
   "outputs": [],
   "source": [
    "#UCI machine learning repository\n",
    "#Datasets\n",
    "#1. Census income dataset\n",
    "#2. Phising Websites"
   ]
  }
 ],
 "metadata": {
  "kernelspec": {
   "display_name": "Python 3 (ipykernel)",
   "language": "python",
   "name": "python3"
  },
  "language_info": {
   "codemirror_mode": {
    "name": "ipython",
    "version": 3
   },
   "file_extension": ".py",
   "mimetype": "text/x-python",
   "name": "python",
   "nbconvert_exporter": "python",
   "pygments_lexer": "ipython3",
   "version": "3.10.6"
  }
 },
 "nbformat": 4,
 "nbformat_minor": 5
}
