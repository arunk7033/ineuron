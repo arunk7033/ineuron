{
 "cells": [
  {
   "cell_type": "code",
   "execution_count": 1,
   "id": "d878a657-bbca-45cf-8c3d-321f14627fc2",
   "metadata": {},
   "outputs": [],
   "source": [
    "# 1. How to check normality of the data\n",
    "# 2. z Test\n",
    "# 3. t Test\n",
    "# 4. Chi square Test\n",
    "# 5. Annova Test"
   ]
  },
  {
   "cell_type": "code",
   "execution_count": 2,
   "id": "a00077a9-43d3-445f-babc-2cd11b223a28",
   "metadata": {},
   "outputs": [],
   "source": [
    "#import the dataset\n",
    "import pandas as pd\n",
    "data=pd.read_csv(\"https://raw.githubusercontent.com/shrikant-temburwar/Wine-Quality-Dataset/master/winequality-red.csv\",sep=';')"
   ]
  },
  {
   "cell_type": "code",
   "execution_count": 3,
   "id": "35ea55fc-ae5e-4e88-a573-a6f9d75a50b4",
   "metadata": {},
   "outputs": [
    {
     "data": {
      "text/html": [
       "<div>\n",
       "<style scoped>\n",
       "    .dataframe tbody tr th:only-of-type {\n",
       "        vertical-align: middle;\n",
       "    }\n",
       "\n",
       "    .dataframe tbody tr th {\n",
       "        vertical-align: top;\n",
       "    }\n",
       "\n",
       "    .dataframe thead th {\n",
       "        text-align: right;\n",
       "    }\n",
       "</style>\n",
       "<table border=\"1\" class=\"dataframe\">\n",
       "  <thead>\n",
       "    <tr style=\"text-align: right;\">\n",
       "      <th></th>\n",
       "      <th>fixed acidity</th>\n",
       "      <th>volatile acidity</th>\n",
       "      <th>citric acid</th>\n",
       "      <th>residual sugar</th>\n",
       "      <th>chlorides</th>\n",
       "      <th>free sulfur dioxide</th>\n",
       "      <th>total sulfur dioxide</th>\n",
       "      <th>density</th>\n",
       "      <th>pH</th>\n",
       "      <th>sulphates</th>\n",
       "      <th>alcohol</th>\n",
       "      <th>quality</th>\n",
       "    </tr>\n",
       "  </thead>\n",
       "  <tbody>\n",
       "    <tr>\n",
       "      <th>0</th>\n",
       "      <td>7.4</td>\n",
       "      <td>0.70</td>\n",
       "      <td>0.00</td>\n",
       "      <td>1.9</td>\n",
       "      <td>0.076</td>\n",
       "      <td>11.0</td>\n",
       "      <td>34.0</td>\n",
       "      <td>0.9978</td>\n",
       "      <td>3.51</td>\n",
       "      <td>0.56</td>\n",
       "      <td>9.4</td>\n",
       "      <td>5</td>\n",
       "    </tr>\n",
       "    <tr>\n",
       "      <th>1</th>\n",
       "      <td>7.8</td>\n",
       "      <td>0.88</td>\n",
       "      <td>0.00</td>\n",
       "      <td>2.6</td>\n",
       "      <td>0.098</td>\n",
       "      <td>25.0</td>\n",
       "      <td>67.0</td>\n",
       "      <td>0.9968</td>\n",
       "      <td>3.20</td>\n",
       "      <td>0.68</td>\n",
       "      <td>9.8</td>\n",
       "      <td>5</td>\n",
       "    </tr>\n",
       "    <tr>\n",
       "      <th>2</th>\n",
       "      <td>7.8</td>\n",
       "      <td>0.76</td>\n",
       "      <td>0.04</td>\n",
       "      <td>2.3</td>\n",
       "      <td>0.092</td>\n",
       "      <td>15.0</td>\n",
       "      <td>54.0</td>\n",
       "      <td>0.9970</td>\n",
       "      <td>3.26</td>\n",
       "      <td>0.65</td>\n",
       "      <td>9.8</td>\n",
       "      <td>5</td>\n",
       "    </tr>\n",
       "    <tr>\n",
       "      <th>3</th>\n",
       "      <td>11.2</td>\n",
       "      <td>0.28</td>\n",
       "      <td>0.56</td>\n",
       "      <td>1.9</td>\n",
       "      <td>0.075</td>\n",
       "      <td>17.0</td>\n",
       "      <td>60.0</td>\n",
       "      <td>0.9980</td>\n",
       "      <td>3.16</td>\n",
       "      <td>0.58</td>\n",
       "      <td>9.8</td>\n",
       "      <td>6</td>\n",
       "    </tr>\n",
       "    <tr>\n",
       "      <th>4</th>\n",
       "      <td>7.4</td>\n",
       "      <td>0.70</td>\n",
       "      <td>0.00</td>\n",
       "      <td>1.9</td>\n",
       "      <td>0.076</td>\n",
       "      <td>11.0</td>\n",
       "      <td>34.0</td>\n",
       "      <td>0.9978</td>\n",
       "      <td>3.51</td>\n",
       "      <td>0.56</td>\n",
       "      <td>9.4</td>\n",
       "      <td>5</td>\n",
       "    </tr>\n",
       "  </tbody>\n",
       "</table>\n",
       "</div>"
      ],
      "text/plain": [
       "   fixed acidity  volatile acidity  citric acid  residual sugar  chlorides  \\\n",
       "0            7.4              0.70         0.00             1.9      0.076   \n",
       "1            7.8              0.88         0.00             2.6      0.098   \n",
       "2            7.8              0.76         0.04             2.3      0.092   \n",
       "3           11.2              0.28         0.56             1.9      0.075   \n",
       "4            7.4              0.70         0.00             1.9      0.076   \n",
       "\n",
       "   free sulfur dioxide  total sulfur dioxide  density    pH  sulphates  \\\n",
       "0                 11.0                  34.0   0.9978  3.51       0.56   \n",
       "1                 25.0                  67.0   0.9968  3.20       0.68   \n",
       "2                 15.0                  54.0   0.9970  3.26       0.65   \n",
       "3                 17.0                  60.0   0.9980  3.16       0.58   \n",
       "4                 11.0                  34.0   0.9978  3.51       0.56   \n",
       "\n",
       "   alcohol  quality  \n",
       "0      9.4        5  \n",
       "1      9.8        5  \n",
       "2      9.8        5  \n",
       "3      9.8        6  \n",
       "4      9.4        5  "
      ]
     },
     "execution_count": 3,
     "metadata": {},
     "output_type": "execute_result"
    }
   ],
   "source": [
    "data.head()"
   ]
  },
  {
   "cell_type": "code",
   "execution_count": 4,
   "id": "af5c8048-5a4a-481b-8743-2546103d4278",
   "metadata": {},
   "outputs": [
    {
     "data": {
      "text/plain": [
       "0       0.700\n",
       "1       0.880\n",
       "2       0.760\n",
       "3       0.280\n",
       "4       0.700\n",
       "        ...  \n",
       "1594    0.600\n",
       "1595    0.550\n",
       "1596    0.510\n",
       "1597    0.645\n",
       "1598    0.310\n",
       "Name: volatile acidity, Length: 1599, dtype: float64"
      ]
     },
     "execution_count": 4,
     "metadata": {},
     "output_type": "execute_result"
    }
   ],
   "source": [
    "data[\"volatile acidity\"]"
   ]
  },
  {
   "cell_type": "code",
   "execution_count": 5,
   "id": "1935ba4d-0c46-4627-8765-2f23ffce4783",
   "metadata": {},
   "outputs": [
    {
     "name": "stderr",
     "output_type": "stream",
     "text": [
      "/tmp/ipykernel_102/2421593455.py:2: UserWarning: \n",
      "\n",
      "`distplot` is a deprecated function and will be removed in seaborn v0.14.0.\n",
      "\n",
      "Please adapt your code to use either `displot` (a figure-level function with\n",
      "similar flexibility) or `histplot` (an axes-level function for histograms).\n",
      "\n",
      "For a guide to updating your code to use the new functions, please see\n",
      "https://gist.github.com/mwaskom/de44147ed2974457ad6372750bbe5751\n",
      "\n",
      "  sns.distplot(data[\"volatile acidity\"])\n"
     ]
    },
    {
     "data": {
      "text/plain": [
       "<AxesSubplot: xlabel='volatile acidity', ylabel='Density'>"
      ]
     },
     "execution_count": 5,
     "metadata": {},
     "output_type": "execute_result"
    },
    {
     "data": {
      "image/png": "[encoded data removed]",
      "text/plain": [
       "<Figure size 640x480 with 1 Axes>"
      ]
     },
     "metadata": {},
     "output_type": "display_data"
    }
   ],
   "source": [
    "import seaborn as sns\n",
    "sns.distplot(data[\"volatile acidity\"])"
   ]
  },
  {
   "cell_type": "code",
   "execution_count": 6,
   "id": "a5dd522a-9580-472f-8b57-e55544be6b33",
   "metadata": {},
   "outputs": [
    {
     "name": "stderr",
     "output_type": "stream",
     "text": [
      "/tmp/ipykernel_102/1950119392.py:2: UserWarning: \n",
      "\n",
      "`distplot` is a deprecated function and will be removed in seaborn v0.14.0.\n",
      "\n",
      "Please adapt your code to use either `displot` (a figure-level function with\n",
      "similar flexibility) or `histplot` (an axes-level function for histograms).\n",
      "\n",
      "For a guide to updating your code to use the new functions, please see\n",
      "https://gist.github.com/mwaskom/de44147ed2974457ad6372750bbe5751\n",
      "\n",
      "  sns.distplot(data[\"volatile acidity\"],kde=True,color='red')\n"
     ]
    },
    {
     "data": {
      "text/plain": [
       "<AxesSubplot: xlabel='volatile acidity', ylabel='Density'>"
      ]
     },
     "execution_count": 6,
     "metadata": {},
     "output_type": "execute_result"
    },
    {
     "data": {
      "image/png": "[encoded data removed]",
      "text/plain": [
       "<Figure size 640x480 with 1 Axes>"
      ]
     },
     "metadata": {},
     "output_type": "display_data"
    }
   ],
   "source": [
    "import seaborn as sns\n",
    "sns.distplot(data[\"volatile acidity\"],kde=True,color='red')"
   ]
  },
  {
   "cell_type": "code",
   "execution_count": 7,
   "id": "0fe3283f-5a09-43ef-a584-2a8e20e3c0bb",
   "metadata": {},
   "outputs": [
    {
     "name": "stderr",
     "output_type": "stream",
     "text": [
      "/tmp/ipykernel_89/16770690.py:2: UserWarning: \n",
      "\n",
      "`distplot` is a deprecated function and will be removed in seaborn v0.14.0.\n",
      "\n",
      "Please adapt your code to use either `displot` (a figure-level function with\n",
      "similar flexibility) or `histplot` (an axes-level function for histograms).\n",
      "\n",
      "For a guide to updating your code to use the new functions, please see\n",
      "https://gist.github.com/mwaskom/de44147ed2974457ad6372750bbe5751\n",
      "\n",
      "  sns.distplot(data[\"citric acid\"],kde=True,color='red')\n"
     ]
    },
    {
     "data": {
      "text/plain": [
       "<AxesSubplot: xlabel='citric acid', ylabel='Density'>"
      ]
     },
     "execution_count": 7,
     "metadata": {},
     "output_type": "execute_result"
    },
    {
     "data": {
      "image/png": "[encoded data removed]",
      "text/plain": [
       "<Figure size 640x480 with 1 Axes>"
      ]
     },
     "metadata": {},
     "output_type": "display_data"
    }
   ],
   "source": [
    "import seaborn as sns\n",
    "sns.distplot(data[\"citric acid\"],kde=True,color='red')"
   ]
  },
  {
   "cell_type": "code",
   "execution_count": 7,
   "id": "e5019c7a-e01f-4064-9f79-2bcf63cc57bf",
   "metadata": {},
   "outputs": [
    {
     "data": {
      "text/plain": [
       "ShapiroResult(statistic=0.9743338823318481, pvalue=2.686385373947307e-16)"
      ]
     },
     "execution_count": 7,
     "metadata": {},
     "output_type": "execute_result"
    }
   ],
   "source": [
    "from scipy import stats\n",
    "stats.shapiro(data['volatile acidity'])"
   ]
  },
  {
   "cell_type": "code",
   "execution_count": 8,
   "id": "bc3fbe85-1e65-4f16-80d1-aea0bc7aa872",
   "metadata": {},
   "outputs": [
    {
     "data": {
      "text/plain": [
       "ShapiroResult(statistic=0.955294668674469, pvalue=1.0233944777578548e-21)"
      ]
     },
     "execution_count": 8,
     "metadata": {},
     "output_type": "execute_result"
    }
   ],
   "source": [
    "stats.shapiro(data['citric acid'])"
   ]
  },
  {
   "cell_type": "code",
   "execution_count": 9,
   "id": "21960f5d-f2ec-4139-a96c-2969b2f28bf6",
   "metadata": {},
   "outputs": [],
   "source": [
    "# from scipy import stats\n",
    "\n",
    "# # Assuming 'data' is a pandas DataFrame, and 'volatile acidity' is a column in it\n",
    "# data = ...\n",
    "\n",
    "# # Perform the Shapiro-Wilk test\n",
    "# statistic, p_value = stats.shapiro(data['volatile acidity'])\n",
    "\n",
    "# # Print the results\n",
    "# print(\"Shapiro-Wilk test statistic:\", statistic)\n",
    "# print(\"p-value:\", p_value)\n",
    "\n",
    "# # Check the significance level (commonly set to 0.05)\n",
    "# alpha = 0.05\n",
    "# if p_value > alpha:\n",
    "#     print(\"The data follows a normal distribution (fail to reject the null hypothesis)\")\n",
    "# else:\n",
    "#     print(\"The data does not follow a normal distribution (reject the null hypothesis)\")\n",
    "\n",
    "# If the p-value is less than the chosen significance level (often set to 0.05), you can reject the null hypothesis and conclude that the data does not follow a normal distribution. If the p-value is greater than the significance level, you fail to reject the null hypothesis, indicating that the data could be considered normally distributed."
   ]
  },
  {
   "cell_type": "code",
   "execution_count": 10,
   "id": "43630898-15bd-4509-a5e2-bb8f5414f5cc",
   "metadata": {},
   "outputs": [],
   "source": [
    "import numpy as np\n",
    "from numpy.random import randn\n",
    "mydata=randn(500)"
   ]
  },
  {
   "cell_type": "code",
   "execution_count": 11,
   "id": "cb35dd30-c5a0-43c7-a497-57bd2c224f64",
   "metadata": {},
   "outputs": [
    {
     "data": {
      "text/plain": [
       "array([-1.03042888e+00, -5.40204208e-01, -4.91666664e-01,  1.03781344e-01,\n",
       "        3.94895516e-02, -1.95518582e+00,  1.23814308e+00, -3.51443373e-02,\n",
       "       -3.64366400e-02, -3.05022963e-01, -5.41230471e-01,  4.00327085e-01,\n",
       "        4.67577449e-01, -1.01885996e+00,  1.26842657e-01, -1.49877147e-01,\n",
       "        1.34777414e+00,  3.54804063e-01,  1.39170507e+00, -7.36795224e-01,\n",
       "        4.31401561e-01, -1.14846285e+00, -3.08975948e-01, -1.18581949e+00,\n",
       "        1.13912821e+00,  5.02188022e-01, -2.82624533e-01, -2.56110203e-02,\n",
       "        1.12529455e+00, -4.06375885e-01,  1.57737151e+00,  2.54109265e-01,\n",
       "        5.67864459e-01,  1.92377423e+00, -1.24181184e-01,  8.90810996e-01,\n",
       "       -1.47034876e-01, -2.43284781e+00, -3.93366407e-01,  1.16827045e+00,\n",
       "        5.11248554e-01, -5.63645394e-02,  8.26494890e-01, -1.94170238e+00,\n",
       "        1.27204660e+00,  9.50144638e-01, -7.10761197e-01, -5.54559263e-02,\n",
       "        2.44199745e-02, -1.07986645e-01,  1.73185876e-01,  3.38422084e-01,\n",
       "       -1.26303899e+00, -3.67613492e-01, -6.13060579e-01,  8.35652423e-01,\n",
       "       -4.20880659e-01, -1.99870278e-01,  7.63046553e-01,  5.15717171e-01,\n",
       "        8.20696344e-01,  2.52873038e-01,  1.01079498e+00, -1.62803476e+00,\n",
       "       -3.22942699e-01, -1.45092064e-01, -8.70323483e-01, -1.23527464e+00,\n",
       "        1.55454389e-01,  2.13548252e+00,  3.19414360e-02, -1.40611616e+00,\n",
       "       -2.54900160e+00, -1.39008101e+00,  1.46781888e-01,  5.93302868e-01,\n",
       "        1.15778153e+00,  1.48131435e+00,  3.66717958e-01, -2.53951855e+00,\n",
       "       -9.09874635e-01, -7.12634306e-01, -9.27454346e-01,  9.73099239e-01,\n",
       "       -1.31258198e-02,  2.69149840e-01,  7.93250497e-01,  7.80166715e-01,\n",
       "       -1.42372538e+00,  2.49636539e-01,  1.40279817e-01,  2.80997797e-01,\n",
       "        7.37468499e-01, -4.18081148e-02, -1.20462529e+00,  8.28883086e-01,\n",
       "       -1.72481032e-02,  8.70713690e-01, -1.03833343e+00,  4.32241456e-01,\n",
       "        1.70838086e-01,  1.02636480e+00, -1.19314347e+00, -6.23300907e-01,\n",
       "       -1.79752865e+00,  4.39364819e-02,  1.98037031e-01,  7.13284276e-01,\n",
       "        9.14282927e-01,  8.60708398e-02,  4.14819854e-01,  1.51096549e+00,\n",
       "        6.63414670e-01, -7.86970790e-01,  1.17053730e-01,  1.37976454e+00,\n",
       "        1.48595987e+00,  1.28522346e+00,  3.98286688e-01,  4.50720105e-01,\n",
       "       -4.53890432e-01,  7.32684555e-01, -2.42461660e-01, -7.87493988e-01,\n",
       "       -4.74268312e-01, -1.27042907e+00,  1.41060496e+00,  6.30218781e-01,\n",
       "        4.33618865e-01, -2.00677892e-01, -6.33971643e-01, -2.28462899e+00,\n",
       "       -1.39406943e-01,  5.28019024e-01, -8.76399235e-01,  3.70707147e-02,\n",
       "       -8.56545059e-01, -3.18139578e-01,  7.76259960e-01,  2.98260776e-01,\n",
       "        1.32076174e-01, -2.21894533e+00,  9.39983051e-01, -8.78266263e-01,\n",
       "        7.10942508e-02,  6.75730114e-01,  1.62278834e+00, -2.70071529e+00,\n",
       "        6.78641365e-01,  8.48704351e-01,  7.34648910e-01, -4.63934962e-01,\n",
       "       -2.23093755e+00,  8.10790373e-01, -2.67286873e-01, -7.90171534e-01,\n",
       "        9.34773835e-01, -3.27112451e-02,  3.24899666e-01, -2.80733828e-01,\n",
       "       -1.87864008e-02,  4.13930859e-01, -1.46907907e+00,  1.19415713e+00,\n",
       "       -7.71882816e-02,  7.24286063e-01, -1.81896802e+00, -3.65867154e-01,\n",
       "        2.17868702e-01, -1.53086045e+00,  1.60407729e+00,  9.88038554e-01,\n",
       "       -1.83205362e+00, -1.66937115e+00,  8.77602444e-01,  3.55743268e-04,\n",
       "        1.64490724e-01,  2.46945210e-01, -3.68432769e-02, -5.08702456e-01,\n",
       "        1.16867784e-01,  1.51999008e-01,  8.28629826e-01, -7.97047322e-01,\n",
       "       -1.78030885e+00, -1.25719602e+00,  1.73349516e-01,  8.59833739e-01,\n",
       "        4.45302954e-02, -1.46294859e+00,  4.64404099e-01,  1.30563252e+00,\n",
       "        4.70062489e-01,  4.56735648e-01, -1.78796767e+00,  4.48351116e-02,\n",
       "       -1.49810304e+00,  6.04144099e-01,  3.09033643e-01, -2.35912175e+00,\n",
       "       -1.17120478e+00,  9.74109597e-01,  2.96437770e-01,  2.24133119e+00,\n",
       "       -1.35721805e+00, -1.50387922e+00,  4.84467007e-01, -1.01372102e+00,\n",
       "       -7.29838833e-01, -1.01344089e+00, -1.30293946e+00, -3.33311455e-01,\n",
       "        2.58604442e+00, -3.04647813e-01, -5.50818896e-01,  3.54056623e-02,\n",
       "       -7.06248072e-01, -5.84732664e-01, -4.36499544e-01,  1.03019792e+00,\n",
       "       -1.59671070e+00, -9.09110368e-01,  1.50994053e-01, -1.84813651e-01,\n",
       "       -4.79540415e-01,  2.83763278e-01,  9.03628431e-01, -1.31832237e+00,\n",
       "        6.38832265e-01, -2.01741732e-01,  9.78545421e-01,  3.83200273e-01,\n",
       "        6.59316214e-02,  9.78369498e-01,  3.44043221e-01,  2.61429970e-01,\n",
       "        1.32303133e+00, -9.18846262e-01, -4.37189136e-01,  5.42350419e-02,\n",
       "       -1.37327129e+00, -1.23908461e+00,  1.18628184e+00, -5.96841609e-01,\n",
       "        1.43393743e+00,  2.77045598e-01, -1.10107215e+00, -5.04906281e-01,\n",
       "       -1.64464022e+00, -6.08480793e-01,  1.16249451e+00, -4.95703780e-01,\n",
       "        2.09771301e+00, -4.25071351e-01, -1.56552144e-01, -3.12126255e-01,\n",
       "       -1.27766183e+00, -3.08065153e-01,  1.27262282e+00, -1.22464674e+00,\n",
       "        1.68745857e+00, -5.10092017e-02, -1.10296753e+00,  1.38558616e+00,\n",
       "       -2.72338551e-01,  3.34870974e-01,  1.83370545e+00, -7.53861761e-01,\n",
       "       -1.66579555e-01, -6.32289454e-01, -1.68967079e+00,  5.38796020e-01,\n",
       "        1.86074597e+00,  1.27921484e+00, -1.04330646e+00, -2.23244041e+00,\n",
       "       -1.43184703e-01,  2.56347988e-01, -5.58171746e-01, -8.87256207e-01,\n",
       "        1.09881401e+00, -9.69480056e-01, -4.60704601e-01, -2.32598500e-01,\n",
       "       -1.59412408e+00,  1.40964457e-01,  4.49052808e-01, -1.55920191e+00,\n",
       "       -1.11665352e+00, -3.49643812e-01,  1.57966741e+00, -1.66651036e-01,\n",
       "        2.18619273e-01, -1.14900733e+00, -4.28814614e-01, -6.00557551e-01,\n",
       "       -4.96510623e-01,  1.22182625e+00, -8.33128322e-01,  3.82668578e-01,\n",
       "        2.61921923e-02,  1.25245380e+00, -6.30154689e-01, -5.34794567e-01,\n",
       "       -1.90369366e+00,  7.31721857e-02,  1.25931030e+00, -4.86388040e-01,\n",
       "        1.03918832e+00,  4.79051111e-01, -1.02382132e+00, -3.26048143e-01,\n",
       "       -3.65115419e-02,  5.46658811e-01, -1.19674510e+00,  3.50941682e-01,\n",
       "        5.82410957e-01,  1.26687556e+00, -8.57640817e-01, -9.60613246e-02,\n",
       "       -1.87536864e+00,  1.64961810e+00, -1.96322432e+00,  6.66473315e-01,\n",
       "        2.29202598e-01, -7.84215156e-01,  1.07979951e+00, -1.75640229e-01,\n",
       "       -6.03550509e-01, -5.39775513e-01,  4.70023544e-01,  1.03805999e+00,\n",
       "       -6.83518703e-01,  2.20813215e-02, -4.41492410e-01, -1.07089142e+00,\n",
       "        1.69627995e-02, -9.70941985e-02,  5.79068737e-01,  1.13464771e+00,\n",
       "        1.60284677e+00, -9.98405277e-01, -2.01410438e-01,  9.54342798e-02,\n",
       "       -6.84267424e-01, -8.31170497e-02, -3.70381462e-01, -8.43000235e-02,\n",
       "       -5.14370442e-01,  6.69268463e-01, -1.18028912e+00,  6.18383350e-01,\n",
       "       -1.26361322e-01,  1.16810880e-01, -3.02639805e-01, -8.78325828e-01,\n",
       "        6.06099196e-01, -2.24330369e-01, -9.82335902e-02,  1.62446055e-02,\n",
       "        1.14618985e+00, -1.17285295e+00,  1.13990362e+00, -4.86087097e-01,\n",
       "        7.34343520e-01,  6.00836250e-01, -9.91619283e-01, -2.21359359e-01,\n",
       "        1.63551088e+00,  8.40805187e-01,  2.78984277e-01, -9.40614988e-01,\n",
       "        2.83100909e-01,  5.40328636e-01, -2.40321900e-01, -7.08986021e-01,\n",
       "        5.84835415e-01, -2.42424874e-01,  4.68659025e-02, -1.10256790e+00,\n",
       "        1.85015342e-01, -1.33442664e+00,  3.26639781e-01,  1.65059606e-01,\n",
       "        7.11231168e-01,  2.26877021e+00,  8.54060317e-01, -1.08518130e+00,\n",
       "        1.59562378e+00,  2.96809335e-01, -1.13903106e+00, -2.22006924e-01,\n",
       "       -8.45362782e-01,  4.46725354e-01, -7.07077009e-02, -3.38974400e-02,\n",
       "       -1.18485546e+00,  2.73868455e-01, -3.70070088e-01,  1.06844273e+00,\n",
       "        6.31229027e-01, -1.11950593e+00, -5.66493342e-02,  1.32502974e+00,\n",
       "        7.49835674e-01,  9.66194594e-01,  1.12003059e+00, -1.78309747e-01,\n",
       "        1.65043196e+00, -9.46979512e-01, -4.95264979e-01,  1.11847054e+00,\n",
       "       -6.62238944e-01,  1.31682685e+00, -7.75087157e-02, -1.52733910e-01,\n",
       "        1.12567131e-01, -5.23268400e-01, -1.75655681e+00,  1.05729024e+00,\n",
       "       -1.18761774e+00, -6.15138283e-01,  7.23906783e-01, -3.34736800e-02,\n",
       "        2.02944824e-01,  1.34857496e+00, -1.99370080e-01, -1.43558612e+00,\n",
       "       -1.92063247e+00,  8.62650741e-02, -2.65726946e-01,  8.53317183e-01,\n",
       "        1.15049326e+00,  1.65753463e-01,  4.86575100e-01,  3.79584826e-01,\n",
       "       -2.71651962e-02, -5.93171568e-01,  4.90200658e-01, -1.45406526e+00,\n",
       "       -1.42928653e+00,  2.05945501e+00,  5.87430493e-01, -6.14494826e-01,\n",
       "        1.57762344e+00, -1.61466616e+00, -2.93271569e-01, -1.66772657e+00,\n",
       "       -1.81930925e+00,  3.65366161e-01,  3.58033222e-01,  4.39734592e-02,\n",
       "        4.20670613e-01,  2.53225005e-01, -1.86853504e+00, -7.07884980e-02,\n",
       "       -1.12438961e-01,  3.19253794e-02,  1.02737036e+00,  1.37434700e+00,\n",
       "       -1.66893459e-01, -3.75178983e-01,  6.90184151e-01,  4.23732891e-01,\n",
       "       -3.07905177e-01,  5.81052957e-01,  1.71134335e+00, -9.90203914e-01,\n",
       "        4.68808106e-01, -1.05328089e+00, -5.16393225e-01,  2.36623813e-01,\n",
       "        6.53980699e-01,  2.25825770e-02, -6.76575964e-01,  6.04281617e-01,\n",
       "        1.06776772e+00, -1.65429739e+00,  4.94193742e-01,  8.94852659e-01,\n",
       "        2.95912939e+00, -4.29519653e-01,  3.97856283e-01,  1.02640659e+00,\n",
       "        6.43284522e-01, -2.18811161e+00, -7.61573124e-01, -2.57050609e-01,\n",
       "        1.07267882e-01, -8.91293183e-01,  2.09112811e-01,  5.15582259e-01,\n",
       "       -4.94474913e-01,  2.25616068e-01, -9.73042835e-01,  8.52767522e-01,\n",
       "       -2.69181889e-01, -2.34554703e+00,  3.35897040e-01,  1.19636533e+00])"
      ]
     },
     "execution_count": 11,
     "metadata": {},
     "output_type": "execute_result"
    }
   ],
   "source": [
    "mydata"
   ]
  },
  {
   "cell_type": "code",
   "execution_count": 12,
   "id": "b9275367-72b2-4a9c-97d9-95d6dbb49d5a",
   "metadata": {},
   "outputs": [
    {
     "name": "stderr",
     "output_type": "stream",
     "text": [
      "/tmp/ipykernel_102/842972072.py:2: UserWarning: \n",
      "\n",
      "`distplot` is a deprecated function and will be removed in seaborn v0.14.0.\n",
      "\n",
      "Please adapt your code to use either `displot` (a figure-level function with\n",
      "similar flexibility) or `histplot` (an axes-level function for histograms).\n",
      "\n",
      "For a guide to updating your code to use the new functions, please see\n",
      "https://gist.github.com/mwaskom/de44147ed2974457ad6372750bbe5751\n",
      "\n",
      "  sns.distplot(mydata)\n"
     ]
    },
    {
     "data": {
      "text/plain": [
       "<AxesSubplot: ylabel='Density'>"
      ]
     },
     "execution_count": 12,
     "metadata": {},
     "output_type": "execute_result"
    },
    {
     "data": {
      "image/png": "[encoded data removed]",
      "text/plain": [
       "<Figure size 640x480 with 1 Axes>"
      ]
     },
     "metadata": {},
     "output_type": "display_data"
    }
   ],
   "source": [
    "import seaborn as sns\n",
    "sns.distplot(mydata)"
   ]
  },
  {
   "cell_type": "code",
   "execution_count": 13,
   "id": "6eadad51-82aa-49a2-9519-58d2ebfc9015",
   "metadata": {},
   "outputs": [
    {
     "data": {
      "text/plain": [
       "ShapiroResult(statistic=0.996268093585968, pvalue=0.292281836271286)"
      ]
     },
     "execution_count": 13,
     "metadata": {},
     "output_type": "execute_result"
    }
   ],
   "source": [
    "stats.shapiro(mydata)"
   ]
  },
  {
   "cell_type": "code",
   "execution_count": 14,
   "id": "245ea421-872c-4a8d-aaa8-8ac1cdb3e7c0",
   "metadata": {},
   "outputs": [],
   "source": [
    "#  what is my null hypothesis?\n",
    "# null hypothesis that the data was drawn from a normal distribution."
   ]
  },
  {
   "cell_type": "code",
   "execution_count": null,
   "id": "8b983f5d-73f9-4631-8591-62e2fa8b13aa",
   "metadata": {},
   "outputs": [],
   "source": [
    "if p<=result[1]:\n",
    "    print(\"reject the null hypothesis\")\n",
    "else:\n",
    "    print(\"accept the null hypothesis\")"
   ]
  },
  {
   "cell_type": "code",
   "execution_count": 15,
   "id": "b6e0c980-d2d6-435d-a902-113861199bd5",
   "metadata": {},
   "outputs": [
    {
     "data": {
      "text/plain": [
       "NormaltestResult(statistic=152.039214793795, pvalue=9.662822259281018e-34)"
      ]
     },
     "execution_count": 15,
     "metadata": {},
     "output_type": "execute_result"
    }
   ],
   "source": [
    "from scipy import stats\n",
    "stats.normaltest(data[\"citric acid\"])"
   ]
  },
  {
   "cell_type": "code",
   "execution_count": 16,
   "id": "e2bfb9fd-23a5-4ef3-839c-a2091a02eb88",
   "metadata": {},
   "outputs": [
    {
     "data": {
      "text/plain": [
       "NormaltestResult(statistic=2.0118152543683014, pvalue=0.36571255346867537)"
      ]
     },
     "execution_count": 16,
     "metadata": {},
     "output_type": "execute_result"
    }
   ],
   "source": [
    "stats.normaltest(mydata)"
   ]
  },
  {
   "cell_type": "code",
   "execution_count": 17,
   "id": "363ccc94-545e-4b3a-a8d5-94250d4b446c",
   "metadata": {},
   "outputs": [],
   "source": [
    "# college students\n",
    "# no of students=50\n",
    "# average IQ=110 (sample)\n",
    "# Mean population IQ=100\n",
    "#Std dev=15\n",
    "#Significance level=5%\n",
    "#Confidence interval=95%\n",
    "#Null Hypothesis\n",
    "#H0: Mean=100\n",
    "#H1: Mean>100\n",
    "# z score= x-mu/sigma\n",
    "# critical value for 95% area = 1.65(z score)\n",
    "# z score< critical value\n",
    "# Accept the null hypothesis"
   ]
  },
  {
   "cell_type": "code",
   "execution_count": 18,
   "id": "97fd4d44-eec4-4d8a-a34d-c9ce58239d37",
   "metadata": {},
   "outputs": [],
   "source": [
    "sample_mean_iq=110\n",
    "alpha=0.05\n",
    "#ci=95%"
   ]
  },
  {
   "cell_type": "code",
   "execution_count": 19,
   "id": "1f82918e-e806-437e-877f-61ec888cc6d7",
   "metadata": {},
   "outputs": [],
   "source": [
    "mean_std_dev=15\n",
    "mean_population=100"
   ]
  },
  {
   "cell_type": "code",
   "execution_count": 20,
   "id": "275fdc93-ad56-46dd-a398-b9f6c6679310",
   "metadata": {},
   "outputs": [
    {
     "data": {
      "text/plain": [
       "array([143.31087902, 108.15076234,  88.27372131, 128.53111216,\n",
       "       108.2343218 , 108.01578851, 106.12716176, 110.18080012,\n",
       "       133.29953594, 113.2996798 , 121.68008389, 113.73398058,\n",
       "       130.26409578, 116.17339157,  99.73542479,  92.3682157 ,\n",
       "        85.26884811,  89.62214681, 144.37615187, 114.06463614,\n",
       "       101.18233195, 112.46093313,  97.07906288, 126.11758191,\n",
       "        98.33384567,  87.90409865, 144.57896221,  78.43178019,\n",
       "        90.26166889, 124.93641576,  85.33352723, 102.40155822,\n",
       "       120.87063789,  81.06704011,  74.94252746, 126.70958416,\n",
       "       101.78667734, 114.86006474, 116.79807179,  96.81346436,\n",
       "        98.80669036, 134.58385236, 114.9602023 ,  99.84550725,\n",
       "       116.54545287, 102.13567065,  99.53065514, 138.66891778,\n",
       "        93.60923318, 106.58922788])"
      ]
     },
     "execution_count": 20,
     "metadata": {},
     "output_type": "execute_result"
    }
   ],
   "source": [
    "mean_std_dev*randn(50)+sample_mean_iq"
   ]
  },
  {
   "cell_type": "code",
   "execution_count": 21,
   "id": "a7cea37c-0db6-4d2b-8f07-827f92e1ec34",
   "metadata": {},
   "outputs": [],
   "source": [
    "data=mean_std_dev*randn(50)+mean_population"
   ]
  },
  {
   "cell_type": "code",
   "execution_count": 22,
   "id": "3e66f43b-4699-4d96-b359-3df245f9914f",
   "metadata": {},
   "outputs": [
    {
     "data": {
      "text/plain": [
       "98.3028816762081"
      ]
     },
     "execution_count": 22,
     "metadata": {},
     "output_type": "execute_result"
    }
   ],
   "source": [
    "np.mean(data)"
   ]
  },
  {
   "cell_type": "code",
   "execution_count": 23,
   "id": "14d54988-0715-4a54-abb5-ef6e55329fb7",
   "metadata": {},
   "outputs": [
    {
     "data": {
      "text/plain": [
       "14.402760185208487"
      ]
     },
     "execution_count": 23,
     "metadata": {},
     "output_type": "execute_result"
    }
   ],
   "source": [
    "np.std(data)"
   ]
  },
  {
   "cell_type": "code",
   "execution_count": 24,
   "id": "3ed5f3b5-f0c4-41fb-8781-b9c5ded85da9",
   "metadata": {},
   "outputs": [],
   "source": [
    "null_hyphothesis_value=100"
   ]
  },
  {
   "cell_type": "code",
   "execution_count": 25,
   "id": "6dff7572-9e3f-4cb4-b16d-d4abebc50d8a",
   "metadata": {},
   "outputs": [
    {
     "data": {
      "text/plain": [
       "(-0.8248299710456728, 0.7952659357343603)"
      ]
     },
     "execution_count": 25,
     "metadata": {},
     "output_type": "execute_result"
    }
   ],
   "source": [
    "from statsmodels.stats.weightstats import ztest\n",
    "ztest(data,value=null_hyphothesis_value,alternative='larger')"
   ]
  },
  {
   "cell_type": "code",
   "execution_count": 26,
   "id": "86811339-4fba-40e0-9e00-f68647403e5f",
   "metadata": {},
   "outputs": [],
   "source": [
    "#t_test"
   ]
  },
  {
   "cell_type": "code",
   "execution_count": 27,
   "id": "1def3e9f-26f9-4216-8ce2-4ebbfcfe521d",
   "metadata": {},
   "outputs": [],
   "source": [
    "#ztest vs test\n",
    "\n",
    "# use the Z-test when the population standard deviation is known and the sample size is large, and use the t-test when the population standard deviation is unknown or the sample size is small\n",
    "# sample size less than 30\n",
    "# pop var/pop std won't be there"
   ]
  },
  {
   "cell_type": "code",
   "execution_count": 28,
   "id": "7dd4b36b-c6a2-4c45-82c8-440863fdfe50",
   "metadata": {},
   "outputs": [
    {
     "ename": "SyntaxError",
     "evalue": "invalid syntax (753835906.py, line 1)",
     "output_type": "error",
     "traceback": [
      "\u001b[0;36m  Cell \u001b[0;32mIn [28], line 1\u001b[0;36m\u001b[0m\n\u001b[0;31m    one-sample t test(with respect to one independent sample)\u001b[0m\n\u001b[0m               ^\u001b[0m\n\u001b[0;31mSyntaxError\u001b[0m\u001b[0;31m:\u001b[0m invalid syntax\n"
     ]
    }
   ],
   "source": [
    "one-sample t test(with respect to one independent sample)\n",
    "two-sample t test(with respect to two independent sample)\n",
    "paired t-test(two sample from the sample population on different time interval)"
   ]
  },
  {
   "cell_type": "code",
   "execution_count": 29,
   "id": "c325bfc2-509b-425e-bc24-78edcb0f85ac",
   "metadata": {},
   "outputs": [
    {
     "data": {
      "text/plain": [
       "array([34, 29, 32, 17, 49, 16, 12, 20, 31, 19, 38, 28, 24, 49, 21, 24, 36,\n",
       "       35, 32, 24, 27, 37, 42, 18, 33, 11, 39, 35, 48, 29, 44, 31, 45, 23,\n",
       "       39, 41, 43, 11, 14, 37, 16, 34, 32, 19, 20, 15, 30, 44, 16, 30])"
      ]
     },
     "execution_count": 29,
     "metadata": {},
     "output_type": "execute_result"
    }
   ],
   "source": [
    "import random\n",
    "import numpy as np\n",
    "np.random.randint(10,50,50)"
   ]
  },
  {
   "cell_type": "code",
   "execution_count": 30,
   "id": "aa895ab5-fce0-4312-9228-481e110c5b4c",
   "metadata": {},
   "outputs": [],
   "source": [
    "population=np.random.randint(10,50,50)"
   ]
  },
  {
   "cell_type": "code",
   "execution_count": 31,
   "id": "c5b40b9a-640c-41e9-806d-dc7574b8c26d",
   "metadata": {},
   "outputs": [],
   "source": [
    "sample1=np.random.choice(population,20)"
   ]
  },
  {
   "cell_type": "code",
   "execution_count": 32,
   "id": "8a72f9b2-7122-44dc-89ed-d643fc2271c1",
   "metadata": {},
   "outputs": [
    {
     "data": {
      "text/plain": [
       "array([20, 32, 32, 14, 13, 14, 14, 27, 48, 20, 39, 19, 11, 19, 13, 43, 13,\n",
       "       46, 19, 46])"
      ]
     },
     "execution_count": 32,
     "metadata": {},
     "output_type": "execute_result"
    }
   ],
   "source": [
    "sample1"
   ]
  },
  {
   "cell_type": "code",
   "execution_count": 33,
   "id": "ec3310e5-3801-497a-930f-4dc848cf5d0e",
   "metadata": {},
   "outputs": [
    {
     "data": {
      "text/plain": [
       "25.1"
      ]
     },
     "execution_count": 33,
     "metadata": {},
     "output_type": "execute_result"
    }
   ],
   "source": [
    "sample1.mean()"
   ]
  },
  {
   "cell_type": "code",
   "execution_count": 34,
   "id": "161c73c0-5646-4331-adbc-06f601dd81eb",
   "metadata": {},
   "outputs": [],
   "source": [
    "sample2=np.random.choice(population,20)"
   ]
  },
  {
   "cell_type": "code",
   "execution_count": 35,
   "id": "bd66ea20-75a0-47b2-846b-3ff7a8bb7bb6",
   "metadata": {},
   "outputs": [
    {
     "data": {
      "text/plain": [
       "array([42, 38, 37, 17, 31, 45, 11, 24, 33, 21, 16, 25, 11, 18, 40, 41, 11,\n",
       "       20, 36, 41])"
      ]
     },
     "execution_count": 35,
     "metadata": {},
     "output_type": "execute_result"
    }
   ],
   "source": [
    "sample2"
   ]
  },
  {
   "cell_type": "code",
   "execution_count": 36,
   "id": "6148f4ab-09fb-4f47-bf3c-b6987e565674",
   "metadata": {},
   "outputs": [
    {
     "data": {
      "text/plain": [
       "27.9"
      ]
     },
     "execution_count": 36,
     "metadata": {},
     "output_type": "execute_result"
    }
   ],
   "source": [
    "sample2.mean()"
   ]
  },
  {
   "cell_type": "code",
   "execution_count": 37,
   "id": "70807312-0e7e-4bb8-bd79-9d76fac7d334",
   "metadata": {},
   "outputs": [],
   "source": [
    "my_cricket_score=[22, 38, 19, 15, 48, 11, 10, 49, 47, 38, 10, 25, 46, 10, 21, 24, 29,36, 25, 24]"
   ]
  },
  {
   "cell_type": "code",
   "execution_count": 38,
   "id": "494e691d-aa92-4aed-a0f0-653df6948084",
   "metadata": {},
   "outputs": [
    {
     "data": {
      "text/plain": [
       "27.35"
      ]
     },
     "execution_count": 38,
     "metadata": {},
     "output_type": "execute_result"
    }
   ],
   "source": [
    "np.mean(my_cricket_score)"
   ]
  },
  {
   "cell_type": "code",
   "execution_count": 39,
   "id": "9e69bc06-9d1f-4283-a6e6-eecaca77f5c0",
   "metadata": {},
   "outputs": [],
   "source": [
    "# null_hyphothesis=sample mean should be 27.35"
   ]
  },
  {
   "cell_type": "code",
   "execution_count": 40,
   "id": "3f1ebb8d-0b21-445f-ba24-9c0efb4ef0e2",
   "metadata": {},
   "outputs": [],
   "source": [
    "virat_cricket_score=[33, 45, 23, 25, 46, 46, 46, 49, 49, 14, 14, 44, 25, 31, 25, 40, 30,20, 42, 37]"
   ]
  },
  {
   "cell_type": "code",
   "execution_count": 41,
   "id": "70c1968f-168d-4c15-ad18-87922eb8e105",
   "metadata": {},
   "outputs": [
    {
     "data": {
      "text/plain": [
       "34.2"
      ]
     },
     "execution_count": 41,
     "metadata": {},
     "output_type": "execute_result"
    }
   ],
   "source": [
    "(sum(virat_cricket_score))/len(virat_cricket_score)"
   ]
  },
  {
   "cell_type": "code",
   "execution_count": 42,
   "id": "00810045-3653-49a6-8a11-bf59c9d97c39",
   "metadata": {},
   "outputs": [
    {
     "data": {
      "text/plain": [
       "34.2"
      ]
     },
     "execution_count": 42,
     "metadata": {},
     "output_type": "execute_result"
    }
   ],
   "source": [
    "np.mean(virat_cricket_score)"
   ]
  },
  {
   "cell_type": "code",
   "execution_count": 43,
   "id": "7e3ca84c-cb20-4ea0-b35f-f9d5588b7a80",
   "metadata": {},
   "outputs": [],
   "source": [
    "import scipy\n",
    "result=scipy.stats.ttest_1samp(my_cricket_score,15)"
   ]
  },
  {
   "cell_type": "code",
   "execution_count": 44,
   "id": "bd2c12f6-d286-4314-8314-ef7464dbbbc6",
   "metadata": {},
   "outputs": [
    {
     "data": {
      "text/plain": [
       "0.0005939030580482863"
      ]
     },
     "execution_count": 44,
     "metadata": {},
     "output_type": "execute_result"
    }
   ],
   "source": [
    "result[1]"
   ]
  },
  {
   "cell_type": "code",
   "execution_count": 45,
   "id": "394103f2-44ee-4c2f-b5ec-f9ccd5081d85",
   "metadata": {},
   "outputs": [],
   "source": [
    "# we are going to reject the null hyphothesis\n",
    "# p_value<=0.05"
   ]
  },
  {
   "cell_type": "code",
   "execution_count": 46,
   "id": "e45544e6-e923-4779-bb4e-0f7e1dd64faf",
   "metadata": {},
   "outputs": [],
   "source": [
    "# if P_value we are going to accept the null hyphgothesis\n",
    "# p_value>0.05"
   ]
  },
  {
   "cell_type": "code",
   "execution_count": 47,
   "id": "9182408d-940c-4ef7-ae6d-7f4b51f50d43",
   "metadata": {},
   "outputs": [
    {
     "data": {
      "text/plain": [
       "Ttest_1sampResult(statistic=0.11652110620241571, pvalue=0.9084623785416333)"
      ]
     },
     "execution_count": 47,
     "metadata": {},
     "output_type": "execute_result"
    }
   ],
   "source": [
    "scipy.stats.ttest_1samp(my_cricket_score,27)"
   ]
  },
  {
   "cell_type": "code",
   "execution_count": 48,
   "id": "75bfa7bc-5e68-4c02-8ab1-326971da7e26",
   "metadata": {},
   "outputs": [],
   "source": [
    "#two-sample t test(with respect to two independent sample)\n",
    "my_cricket_score=[22, 38, 19, 15, 48, 11, 10, 49, 47, 38, 10, 25, 46, 10, 21, 24, 29,36, 25, 24]\n",
    "\n",
    "virat_cricket_score=[33, 45, 23, 25, 46, 46, 46, 49, 49, 44, 44, 49, 25, 31, 25, 40, 30,20, 42, 37]"
   ]
  },
  {
   "cell_type": "code",
   "execution_count": 49,
   "id": "2bb057e6-d994-46c7-b4c6-f9a237373ab1",
   "metadata": {},
   "outputs": [],
   "source": [
    "first_sample_mean=np.mean(my_cricket_score)\n",
    "second_sample_mean=np.mean(virat_cricket_score)"
   ]
  },
  {
   "cell_type": "code",
   "execution_count": 50,
   "id": "976af288-2fdc-4336-9f86-493fbb8db8d0",
   "metadata": {},
   "outputs": [
    {
     "name": "stdout",
     "output_type": "stream",
     "text": [
      "27.35\n",
      "37.45\n"
     ]
    }
   ],
   "source": [
    "print(first_sample_mean)\n",
    "print(second_sample_mean)"
   ]
  },
  {
   "cell_type": "code",
   "execution_count": 52,
   "id": "8ba02df4-8b4f-41e4-acbf-1a75620baa44",
   "metadata": {},
   "outputs": [],
   "source": [
    "# my_null_hyphothsis=both sample mean will be same"
   ]
  },
  {
   "cell_type": "code",
   "execution_count": 53,
   "id": "e78f6abb-3e4a-44ee-b3d0-0f2e5d87e462",
   "metadata": {},
   "outputs": [
    {
     "data": {
      "text/plain": [
       "Ttest_indResult(statistic=-2.7009890879565885, pvalue=0.010269464981935)"
      ]
     },
     "execution_count": 53,
     "metadata": {},
     "output_type": "execute_result"
    }
   ],
   "source": [
    "scipy.stats.ttest_ind(my_cricket_score,virat_cricket_score)"
   ]
  },
  {
   "cell_type": "code",
   "execution_count": 55,
   "id": "9bf034af-4f22-4d83-be48-cb2903f00e12",
   "metadata": {},
   "outputs": [],
   "source": [
    "# # we are going to reject the null hyphothesis\n",
    "# p_value<=0.05\n",
    "# #if P_value we are going to accept the null hyphgothesis\n",
    "# p_value>0.05"
   ]
  },
  {
   "cell_type": "code",
   "execution_count": 56,
   "id": "6672bc42-2a4d-498f-86e1-dd6400b9aa94",
   "metadata": {},
   "outputs": [],
   "source": [
    "#paired t-test(two sample from the sample population on different time interval)\n",
    "my_cricket_score_from_first_inning=[22, 38, 19, 15, 48, 11, 10, 49, 47, 38, 10, 25, 46, 10, 21, 24, 29,36, 25, 24]\n",
    "my_cricket_score_from_second_inning=[22, 38, 29, 15, 18, 11, 10, 49, 47, 38, 50, 45, 46, 40, 21, 24, 29,16, 25, 24]"
   ]
  },
  {
   "cell_type": "code",
   "execution_count": 57,
   "id": "627fbef8-947e-47bb-955c-d781bace70c3",
   "metadata": {},
   "outputs": [
    {
     "name": "stdout",
     "output_type": "stream",
     "text": [
      "27.35\n",
      "29.85\n"
     ]
    }
   ],
   "source": [
    "print(np.mean(my_cricket_score_from_first_inning))\n",
    "print(np.mean(my_cricket_score_from_second_inning))"
   ]
  },
  {
   "cell_type": "code",
   "execution_count": 58,
   "id": "9a4adbf7-a5fc-4474-b99e-5c5856d97a38",
   "metadata": {},
   "outputs": [
    {
     "data": {
      "text/plain": [
       "Ttest_relResult(statistic=-0.7542295906745516, pvalue=0.45995773816634733)"
      ]
     },
     "execution_count": 58,
     "metadata": {},
     "output_type": "execute_result"
    }
   ],
   "source": [
    "scipy.stats.ttest_rel(my_cricket_score_from_first_inning,my_cricket_score_from_second_inning)"
   ]
  },
  {
   "cell_type": "code",
   "execution_count": 59,
   "id": "f3ff13d5-5073-4ff5-98cc-2d27581d9eb6",
   "metadata": {},
   "outputs": [
    {
     "data": {
      "text/plain": [
       "Ttest_relResult(statistic=-0.7542295906745516, pvalue=0.45995773816634733)"
      ]
     },
     "execution_count": 59,
     "metadata": {},
     "output_type": "execute_result"
    }
   ],
   "source": [
    "scipy.stats.ttest_rel(my_cricket_score_from_first_inning,my_cricket_score_from_second_inning)"
   ]
  },
  {
   "cell_type": "code",
   "execution_count": 60,
   "id": "a925ea45-a0d1-44f7-8447-a9346c334a84",
   "metadata": {},
   "outputs": [],
   "source": [
    "# CHI -SQURE TEST"
   ]
  },
  {
   "cell_type": "code",
   "execution_count": 61,
   "id": "bd529f09-5d63-429d-aba4-162f245c9888",
   "metadata": {},
   "outputs": [],
   "source": [
    "import seaborn as sns\n",
    "dataset=sns.load_dataset('tips')"
   ]
  },
  {
   "cell_type": "code",
   "execution_count": 62,
   "id": "ae557822-1cdb-4796-aae2-f317942c8554",
   "metadata": {},
   "outputs": [
    {
     "data": {
      "text/html": [
       "<div>\n",
       "<style scoped>\n",
       "    .dataframe tbody tr th:only-of-type {\n",
       "        vertical-align: middle;\n",
       "    }\n",
       "\n",
       "    .dataframe tbody tr th {\n",
       "        vertical-align: top;\n",
       "    }\n",
       "\n",
       "    .dataframe thead th {\n",
       "        text-align: right;\n",
       "    }\n",
       "</style>\n",
       "<table border=\"1\" class=\"dataframe\">\n",
       "  <thead>\n",
       "    <tr style=\"text-align: right;\">\n",
       "      <th></th>\n",
       "      <th>total_bill</th>\n",
       "      <th>tip</th>\n",
       "      <th>sex</th>\n",
       "      <th>smoker</th>\n",
       "      <th>day</th>\n",
       "      <th>time</th>\n",
       "      <th>size</th>\n",
       "    </tr>\n",
       "  </thead>\n",
       "  <tbody>\n",
       "    <tr>\n",
       "      <th>0</th>\n",
       "      <td>16.99</td>\n",
       "      <td>1.01</td>\n",
       "      <td>Female</td>\n",
       "      <td>No</td>\n",
       "      <td>Sun</td>\n",
       "      <td>Dinner</td>\n",
       "      <td>2</td>\n",
       "    </tr>\n",
       "    <tr>\n",
       "      <th>1</th>\n",
       "      <td>10.34</td>\n",
       "      <td>1.66</td>\n",
       "      <td>Male</td>\n",
       "      <td>No</td>\n",
       "      <td>Sun</td>\n",
       "      <td>Dinner</td>\n",
       "      <td>3</td>\n",
       "    </tr>\n",
       "    <tr>\n",
       "      <th>2</th>\n",
       "      <td>21.01</td>\n",
       "      <td>3.50</td>\n",
       "      <td>Male</td>\n",
       "      <td>No</td>\n",
       "      <td>Sun</td>\n",
       "      <td>Dinner</td>\n",
       "      <td>3</td>\n",
       "    </tr>\n",
       "    <tr>\n",
       "      <th>3</th>\n",
       "      <td>23.68</td>\n",
       "      <td>3.31</td>\n",
       "      <td>Male</td>\n",
       "      <td>No</td>\n",
       "      <td>Sun</td>\n",
       "      <td>Dinner</td>\n",
       "      <td>2</td>\n",
       "    </tr>\n",
       "    <tr>\n",
       "      <th>4</th>\n",
       "      <td>24.59</td>\n",
       "      <td>3.61</td>\n",
       "      <td>Female</td>\n",
       "      <td>No</td>\n",
       "      <td>Sun</td>\n",
       "      <td>Dinner</td>\n",
       "      <td>4</td>\n",
       "    </tr>\n",
       "    <tr>\n",
       "      <th>...</th>\n",
       "      <td>...</td>\n",
       "      <td>...</td>\n",
       "      <td>...</td>\n",
       "      <td>...</td>\n",
       "      <td>...</td>\n",
       "      <td>...</td>\n",
       "      <td>...</td>\n",
       "    </tr>\n",
       "    <tr>\n",
       "      <th>239</th>\n",
       "      <td>29.03</td>\n",
       "      <td>5.92</td>\n",
       "      <td>Male</td>\n",
       "      <td>No</td>\n",
       "      <td>Sat</td>\n",
       "      <td>Dinner</td>\n",
       "      <td>3</td>\n",
       "    </tr>\n",
       "    <tr>\n",
       "      <th>240</th>\n",
       "      <td>27.18</td>\n",
       "      <td>2.00</td>\n",
       "      <td>Female</td>\n",
       "      <td>Yes</td>\n",
       "      <td>Sat</td>\n",
       "      <td>Dinner</td>\n",
       "      <td>2</td>\n",
       "    </tr>\n",
       "    <tr>\n",
       "      <th>241</th>\n",
       "      <td>22.67</td>\n",
       "      <td>2.00</td>\n",
       "      <td>Male</td>\n",
       "      <td>Yes</td>\n",
       "      <td>Sat</td>\n",
       "      <td>Dinner</td>\n",
       "      <td>2</td>\n",
       "    </tr>\n",
       "    <tr>\n",
       "      <th>242</th>\n",
       "      <td>17.82</td>\n",
       "      <td>1.75</td>\n",
       "      <td>Male</td>\n",
       "      <td>No</td>\n",
       "      <td>Sat</td>\n",
       "      <td>Dinner</td>\n",
       "      <td>2</td>\n",
       "    </tr>\n",
       "    <tr>\n",
       "      <th>243</th>\n",
       "      <td>18.78</td>\n",
       "      <td>3.00</td>\n",
       "      <td>Female</td>\n",
       "      <td>No</td>\n",
       "      <td>Thur</td>\n",
       "      <td>Dinner</td>\n",
       "      <td>2</td>\n",
       "    </tr>\n",
       "  </tbody>\n",
       "</table>\n",
       "<p>244 rows × 7 columns</p>\n",
       "</div>"
      ],
      "text/plain": [
       "     total_bill   tip     sex smoker   day    time  size\n",
       "0         16.99  1.01  Female     No   Sun  Dinner     2\n",
       "1         10.34  1.66    Male     No   Sun  Dinner     3\n",
       "2         21.01  3.50    Male     No   Sun  Dinner     3\n",
       "3         23.68  3.31    Male     No   Sun  Dinner     2\n",
       "4         24.59  3.61  Female     No   Sun  Dinner     4\n",
       "..          ...   ...     ...    ...   ...     ...   ...\n",
       "239       29.03  5.92    Male     No   Sat  Dinner     3\n",
       "240       27.18  2.00  Female    Yes   Sat  Dinner     2\n",
       "241       22.67  2.00    Male    Yes   Sat  Dinner     2\n",
       "242       17.82  1.75    Male     No   Sat  Dinner     2\n",
       "243       18.78  3.00  Female     No  Thur  Dinner     2\n",
       "\n",
       "[244 rows x 7 columns]"
      ]
     },
     "execution_count": 62,
     "metadata": {},
     "output_type": "execute_result"
    }
   ],
   "source": [
    "dataset"
   ]
  },
  {
   "cell_type": "code",
   "execution_count": 63,
   "id": "cf82aa47-c4b8-4f29-b4e9-f8e647ef0256",
   "metadata": {},
   "outputs": [
    {
     "name": "stdout",
     "output_type": "stream",
     "text": [
      "<class 'pandas.core.frame.DataFrame'>\n",
      "RangeIndex: 244 entries, 0 to 243\n",
      "Data columns (total 7 columns):\n",
      " #   Column      Non-Null Count  Dtype   \n",
      "---  ------      --------------  -----   \n",
      " 0   total_bill  244 non-null    float64 \n",
      " 1   tip         244 non-null    float64 \n",
      " 2   sex         244 non-null    category\n",
      " 3   smoker      244 non-null    category\n",
      " 4   day         244 non-null    category\n",
      " 5   time        244 non-null    category\n",
      " 6   size        244 non-null    int64   \n",
      "dtypes: category(4), float64(2), int64(1)\n",
      "memory usage: 7.4 KB\n"
     ]
    }
   ],
   "source": [
    "dataset.info()"
   ]
  },
  {
   "cell_type": "code",
   "execution_count": 64,
   "id": "d60c6ee7-6625-4e08-bf5b-e53f94450b21",
   "metadata": {},
   "outputs": [
    {
     "data": {
      "text/plain": [
       "Index(['total_bill', 'tip', 'sex', 'smoker', 'day', 'time', 'size'], dtype='object')"
      ]
     },
     "execution_count": 64,
     "metadata": {},
     "output_type": "execute_result"
    }
   ],
   "source": [
    "dataset.columns"
   ]
  },
  {
   "cell_type": "code",
   "execution_count": 65,
   "id": "194771b3-a6e3-46e6-9a81-5b2dab4df57e",
   "metadata": {},
   "outputs": [
    {
     "data": {
      "text/html": [
       "<div>\n",
       "<style scoped>\n",
       "    .dataframe tbody tr th:only-of-type {\n",
       "        vertical-align: middle;\n",
       "    }\n",
       "\n",
       "    .dataframe tbody tr th {\n",
       "        vertical-align: top;\n",
       "    }\n",
       "\n",
       "    .dataframe thead th {\n",
       "        text-align: right;\n",
       "    }\n",
       "</style>\n",
       "<table border=\"1\" class=\"dataframe\">\n",
       "  <thead>\n",
       "    <tr style=\"text-align: right;\">\n",
       "      <th></th>\n",
       "      <th>sex</th>\n",
       "      <th>smoker</th>\n",
       "    </tr>\n",
       "  </thead>\n",
       "  <tbody>\n",
       "    <tr>\n",
       "      <th>0</th>\n",
       "      <td>Female</td>\n",
       "      <td>No</td>\n",
       "    </tr>\n",
       "    <tr>\n",
       "      <th>1</th>\n",
       "      <td>Male</td>\n",
       "      <td>No</td>\n",
       "    </tr>\n",
       "    <tr>\n",
       "      <th>2</th>\n",
       "      <td>Male</td>\n",
       "      <td>No</td>\n",
       "    </tr>\n",
       "    <tr>\n",
       "      <th>3</th>\n",
       "      <td>Male</td>\n",
       "      <td>No</td>\n",
       "    </tr>\n",
       "    <tr>\n",
       "      <th>4</th>\n",
       "      <td>Female</td>\n",
       "      <td>No</td>\n",
       "    </tr>\n",
       "    <tr>\n",
       "      <th>...</th>\n",
       "      <td>...</td>\n",
       "      <td>...</td>\n",
       "    </tr>\n",
       "    <tr>\n",
       "      <th>239</th>\n",
       "      <td>Male</td>\n",
       "      <td>No</td>\n",
       "    </tr>\n",
       "    <tr>\n",
       "      <th>240</th>\n",
       "      <td>Female</td>\n",
       "      <td>Yes</td>\n",
       "    </tr>\n",
       "    <tr>\n",
       "      <th>241</th>\n",
       "      <td>Male</td>\n",
       "      <td>Yes</td>\n",
       "    </tr>\n",
       "    <tr>\n",
       "      <th>242</th>\n",
       "      <td>Male</td>\n",
       "      <td>No</td>\n",
       "    </tr>\n",
       "    <tr>\n",
       "      <th>243</th>\n",
       "      <td>Female</td>\n",
       "      <td>No</td>\n",
       "    </tr>\n",
       "  </tbody>\n",
       "</table>\n",
       "<p>244 rows × 2 columns</p>\n",
       "</div>"
      ],
      "text/plain": [
       "        sex smoker\n",
       "0    Female     No\n",
       "1      Male     No\n",
       "2      Male     No\n",
       "3      Male     No\n",
       "4    Female     No\n",
       "..      ...    ...\n",
       "239    Male     No\n",
       "240  Female    Yes\n",
       "241    Male    Yes\n",
       "242    Male     No\n",
       "243  Female     No\n",
       "\n",
       "[244 rows x 2 columns]"
      ]
     },
     "execution_count": 65,
     "metadata": {},
     "output_type": "execute_result"
    }
   ],
   "source": [
    "dataset[['sex','smoker']]"
   ]
  },
  {
   "cell_type": "code",
   "execution_count": 66,
   "id": "627d891d-ca29-482f-8ae5-0b8243f24fc0",
   "metadata": {},
   "outputs": [],
   "source": [
    "dataset_table=pd.crosstab(dataset['sex'],dataset['smoker'])"
   ]
  },
  {
   "cell_type": "code",
   "execution_count": 72,
   "id": "b0c5b377-e0f3-4f4c-adfb-09a858289f28",
   "metadata": {},
   "outputs": [
    {
     "data": {
      "text/html": [
       "<div>\n",
       "<style scoped>\n",
       "    .dataframe tbody tr th:only-of-type {\n",
       "        vertical-align: middle;\n",
       "    }\n",
       "\n",
       "    .dataframe tbody tr th {\n",
       "        vertical-align: top;\n",
       "    }\n",
       "\n",
       "    .dataframe thead th {\n",
       "        text-align: right;\n",
       "    }\n",
       "</style>\n",
       "<table border=\"1\" class=\"dataframe\">\n",
       "  <thead>\n",
       "    <tr style=\"text-align: right;\">\n",
       "      <th>smoker</th>\n",
       "      <th>Yes</th>\n",
       "      <th>No</th>\n",
       "    </tr>\n",
       "    <tr>\n",
       "      <th>sex</th>\n",
       "      <th></th>\n",
       "      <th></th>\n",
       "    </tr>\n",
       "  </thead>\n",
       "  <tbody>\n",
       "    <tr>\n",
       "      <th>Male</th>\n",
       "      <td>60</td>\n",
       "      <td>97</td>\n",
       "    </tr>\n",
       "    <tr>\n",
       "      <th>Female</th>\n",
       "      <td>33</td>\n",
       "      <td>54</td>\n",
       "    </tr>\n",
       "  </tbody>\n",
       "</table>\n",
       "</div>"
      ],
      "text/plain": [
       "smoker  Yes  No\n",
       "sex            \n",
       "Male     60  97\n",
       "Female   33  54"
      ]
     },
     "execution_count": 72,
     "metadata": {},
     "output_type": "execute_result"
    }
   ],
   "source": [
    "dataset_table"
   ]
  },
  {
   "cell_type": "code",
   "execution_count": 74,
   "id": "402b27c2-c932-4608-a347-9e69021e54ad",
   "metadata": {},
   "outputs": [],
   "source": [
    "dataset_array=dataset_table.values"
   ]
  },
  {
   "cell_type": "code",
   "execution_count": 97,
   "id": "97b3d757-2df1-486a-9cc9-d6e9754df97c",
   "metadata": {},
   "outputs": [],
   "source": [
    "Observed_Values=dataset_array"
   ]
  },
  {
   "cell_type": "code",
   "execution_count": 75,
   "id": "1d48946e-f4f9-4127-a7f5-2af9aa4c04a1",
   "metadata": {},
   "outputs": [
    {
     "data": {
      "text/plain": [
       "array([[60, 97],\n",
       "       [33, 54]])"
      ]
     },
     "execution_count": 75,
     "metadata": {},
     "output_type": "execute_result"
    }
   ],
   "source": [
    "dataset_array"
   ]
  },
  {
   "cell_type": "code",
   "execution_count": 76,
   "id": "a4e5a2b8-d7d6-4d9d-8743-f09fe4cdecb3",
   "metadata": {},
   "outputs": [
    {
     "name": "stdout",
     "output_type": "stream",
     "text": [
      "observed value(real value) \n",
      " [[60 97]\n",
      " [33 54]]\n"
     ]
    }
   ],
   "source": [
    "print(f\"observed value(real value) \\n {dataset_array}\")"
   ]
  },
  {
   "cell_type": "code",
   "execution_count": 77,
   "id": "d1cbf44c-8ec2-4be3-8f63-d777c725d0e0",
   "metadata": {},
   "outputs": [],
   "source": [
    "import scipy.stats as stats"
   ]
  },
  {
   "cell_type": "code",
   "execution_count": 79,
   "id": "66db6ab3-f1d0-4fdc-ba26-5246b2a086d1",
   "metadata": {},
   "outputs": [],
   "source": [
    "stats_test,p,dof,Expected_Value=stats.chi2_contingency(dataset_array)"
   ]
  },
  {
   "cell_type": "code",
   "execution_count": 80,
   "id": "68b5f613-f770-4d52-9947-d1e46e7997d1",
   "metadata": {},
   "outputs": [
    {
     "data": {
      "text/plain": [
       "array([[59.84016393, 97.15983607],\n",
       "       [33.15983607, 53.84016393]])"
      ]
     },
     "execution_count": 80,
     "metadata": {},
     "output_type": "execute_result"
    }
   ],
   "source": [
    "Expected_Value"
   ]
  },
  {
   "cell_type": "code",
   "execution_count": 81,
   "id": "44432859-c6ac-4bc4-8d99-98fde6c40fd9",
   "metadata": {},
   "outputs": [
    {
     "data": {
      "text/plain": [
       "1.0"
      ]
     },
     "execution_count": 81,
     "metadata": {},
     "output_type": "execute_result"
    }
   ],
   "source": [
    "p"
   ]
  },
  {
   "cell_type": "code",
   "execution_count": 82,
   "id": "0b7c9844-824c-41c9-a7bc-bed5dadc45f0",
   "metadata": {},
   "outputs": [
    {
     "name": "stdout",
     "output_type": "stream",
     "text": [
      "observed value(real value) \n",
      " [[60 97]\n",
      " [33 54]]\n"
     ]
    }
   ],
   "source": [
    "print(f\"observed value(real value) \\n {dataset_array}\")"
   ]
  },
  {
   "cell_type": "code",
   "execution_count": 83,
   "id": "05c5c922-1db5-4db7-a5ed-481db71c7b87",
   "metadata": {},
   "outputs": [
    {
     "data": {
      "text/plain": [
       "array([[59.84016393, 97.15983607],\n",
       "       [33.15983607, 53.84016393]])"
      ]
     },
     "execution_count": 83,
     "metadata": {},
     "output_type": "execute_result"
    }
   ],
   "source": [
    "Expected_Value"
   ]
  },
  {
   "cell_type": "code",
   "execution_count": 84,
   "id": "e909a6f7-78b4-4086-b569-27a8fb6b8fc1",
   "metadata": {},
   "outputs": [
    {
     "data": {
      "text/html": [
       "<div>\n",
       "<style scoped>\n",
       "    .dataframe tbody tr th:only-of-type {\n",
       "        vertical-align: middle;\n",
       "    }\n",
       "\n",
       "    .dataframe tbody tr th {\n",
       "        vertical-align: top;\n",
       "    }\n",
       "\n",
       "    .dataframe thead th {\n",
       "        text-align: right;\n",
       "    }\n",
       "</style>\n",
       "<table border=\"1\" class=\"dataframe\">\n",
       "  <thead>\n",
       "    <tr style=\"text-align: right;\">\n",
       "      <th>smoker</th>\n",
       "      <th>Yes</th>\n",
       "      <th>No</th>\n",
       "    </tr>\n",
       "    <tr>\n",
       "      <th>sex</th>\n",
       "      <th></th>\n",
       "      <th></th>\n",
       "    </tr>\n",
       "  </thead>\n",
       "  <tbody>\n",
       "    <tr>\n",
       "      <th>Male</th>\n",
       "      <td>60</td>\n",
       "      <td>97</td>\n",
       "    </tr>\n",
       "    <tr>\n",
       "      <th>Female</th>\n",
       "      <td>33</td>\n",
       "      <td>54</td>\n",
       "    </tr>\n",
       "  </tbody>\n",
       "</table>\n",
       "</div>"
      ],
      "text/plain": [
       "smoker  Yes  No\n",
       "sex            \n",
       "Male     60  97\n",
       "Female   33  54"
      ]
     },
     "execution_count": 84,
     "metadata": {},
     "output_type": "execute_result"
    }
   ],
   "source": [
    "dataset_table"
   ]
  },
  {
   "cell_type": "code",
   "execution_count": 89,
   "id": "6e186d95-d4c5-4965-8056-26c5b0672818",
   "metadata": {},
   "outputs": [
    {
     "data": {
      "text/plain": [
       "sex\n",
       "Male      60\n",
       "Female    33\n",
       "Name: Yes, dtype: int64"
      ]
     },
     "execution_count": 89,
     "metadata": {},
     "output_type": "execute_result"
    }
   ],
   "source": [
    "dataset_table.iloc[0:2,0]"
   ]
  },
  {
   "cell_type": "code",
   "execution_count": 85,
   "id": "36432a95-c103-4601-b8ca-61ed7975e865",
   "metadata": {},
   "outputs": [],
   "source": [
    "no_of_rows=dataset_table.iloc[0:2,0]"
   ]
  },
  {
   "cell_type": "code",
   "execution_count": 86,
   "id": "ef5daa9c-f094-47ff-9882-b9302686a3ed",
   "metadata": {},
   "outputs": [
    {
     "data": {
      "text/plain": [
       "2"
      ]
     },
     "execution_count": 86,
     "metadata": {},
     "output_type": "execute_result"
    }
   ],
   "source": [
    "len(no_of_rows)"
   ]
  },
  {
   "cell_type": "code",
   "execution_count": 90,
   "id": "bfb19ebd-94f0-4e74-9942-848171ee0218",
   "metadata": {},
   "outputs": [
    {
     "data": {
      "text/plain": [
       "smoker\n",
       "Yes    60\n",
       "No     97\n",
       "Name: Male, dtype: int64"
      ]
     },
     "execution_count": 90,
     "metadata": {},
     "output_type": "execute_result"
    }
   ],
   "source": [
    "dataset_table.iloc[0,0:2]"
   ]
  },
  {
   "cell_type": "code",
   "execution_count": 87,
   "id": "9906b8cf-bb81-47be-bf26-8c7fc7f60735",
   "metadata": {},
   "outputs": [],
   "source": [
    "no_of_columns=dataset_table.iloc[0,0:2]"
   ]
  },
  {
   "cell_type": "code",
   "execution_count": 88,
   "id": "d4f5dcf9-1a0f-43bc-baa4-efd07fab0715",
   "metadata": {},
   "outputs": [
    {
     "data": {
      "text/plain": [
       "2"
      ]
     },
     "execution_count": 88,
     "metadata": {},
     "output_type": "execute_result"
    }
   ],
   "source": [
    "len(no_of_columns)"
   ]
  },
  {
   "cell_type": "code",
   "execution_count": 93,
   "id": "fb9b83ef-f22b-4d5a-89aa-8b4c27f891c7",
   "metadata": {},
   "outputs": [],
   "source": [
    "dof=(len(no_of_columns)-1)*(len(no_of_rows)-1)"
   ]
  },
  {
   "cell_type": "code",
   "execution_count": 94,
   "id": "f3850870-655f-48ca-a722-ada4721b00fc",
   "metadata": {},
   "outputs": [
    {
     "data": {
      "text/plain": [
       "1"
      ]
     },
     "execution_count": 94,
     "metadata": {},
     "output_type": "execute_result"
    }
   ],
   "source": [
    "dof"
   ]
  },
  {
   "cell_type": "code",
   "execution_count": 98,
   "id": "f06fe3e1-ce2b-4da0-a3f1-09bcc2efff89",
   "metadata": {},
   "outputs": [
    {
     "name": "stdout",
     "output_type": "stream",
     "text": [
      "[60 97] [59.84016393 97.15983607]\n",
      "[33 54] [33.15983607 53.84016393]\n"
     ]
    }
   ],
   "source": [
    "for o,e in zip(Observed_Values,Expected_Values):\n",
    "    print(o,e)"
   ]
  },
  {
   "cell_type": "code",
   "execution_count": 99,
   "id": "8e74173d-085c-4d0f-927d-7a022be00d4b",
   "metadata": {},
   "outputs": [],
   "source": [
    "from scipy.stats import chi2\n",
    "chisqure_test=sum([(o-e)**2./e for o,e in zip(Observed_Values,Expected_Values)])"
   ]
  },
  {
   "cell_type": "code",
   "execution_count": 100,
   "id": "09f4fef6-ffa2-4e59-8aba-a4461ee58a0c",
   "metadata": {},
   "outputs": [
    {
     "data": {
      "text/plain": [
       "array([0.00119737, 0.00073745])"
      ]
     },
     "execution_count": 100,
     "metadata": {},
     "output_type": "execute_result"
    }
   ],
   "source": [
    "chisqure_test"
   ]
  },
  {
   "cell_type": "code",
   "execution_count": 101,
   "id": "cfb558d1-f8be-4e3c-a772-74606c5abe5b",
   "metadata": {},
   "outputs": [],
   "source": [
    "chi_square_statistic=chisqure_test[0]+chisqure_test[1]"
   ]
  },
  {
   "cell_type": "code",
   "execution_count": 102,
   "id": "ea6b1a21-7977-4c47-a23e-2bccfa644263",
   "metadata": {},
   "outputs": [],
   "source": [
    "alpha=0.05"
   ]
  },
  {
   "cell_type": "code",
   "execution_count": 103,
   "id": "ce3b5fa6-bcc5-496a-ae35-821d193cb3ac",
   "metadata": {},
   "outputs": [
    {
     "data": {
      "text/plain": [
       "1"
      ]
     },
     "execution_count": 103,
     "metadata": {},
     "output_type": "execute_result"
    }
   ],
   "source": [
    "dof"
   ]
  },
  {
   "cell_type": "code",
   "execution_count": 104,
   "id": "31e284ef-e608-4b12-8cd3-db6cbf5f8150",
   "metadata": {},
   "outputs": [],
   "source": [
    "from scipy.stats import chi2\n",
    "critical_value=chi2.ppf(1-alpha,df=dof)"
   ]
  },
  {
   "cell_type": "code",
   "execution_count": 105,
   "id": "976650a0-e39b-4a50-8a47-cf7a582d4222",
   "metadata": {},
   "outputs": [
    {
     "name": "stdout",
     "output_type": "stream",
     "text": [
      "Retain H0,There is no relationship between 2 categorical variables\n"
     ]
    }
   ],
   "source": [
    "if chi_square_statistic>=critical_value:\n",
    "    print(\"Reject H0,There is a relationship between 2 categorical variables\")\n",
    "else:\n",
    "    print(\"Retain H0,There is no relationship between 2 categorical variables\")"
   ]
  },
  {
   "cell_type": "code",
   "execution_count": 106,
   "id": "cb4ea83d-f57a-4f60-9a45-fc67b494726a",
   "metadata": {},
   "outputs": [],
   "source": [
    "#p-value\n",
    "p_value=1-chi2.cdf(x=chi_square_statistic,df=dof)"
   ]
  },
  {
   "cell_type": "code",
   "execution_count": 107,
   "id": "a090a1ff-b11e-45e7-9803-46df9ba576de",
   "metadata": {},
   "outputs": [
    {
     "name": "stdout",
     "output_type": "stream",
     "text": [
      "Retain H0,There is no relationship between 2 categorical variables\n"
     ]
    }
   ],
   "source": [
    "if p_value<=alpha:\n",
    "    print(\"Reject H0,There is a relationship between 2 categorical variables\")\n",
    "else:\n",
    "    print(\"Retain H0,There is no relationship between 2 categorical variables\")"
   ]
  },
  {
   "cell_type": "code",
   "execution_count": null,
   "id": "015946e5-59ef-4a4d-9171-97a476305e9c",
   "metadata": {},
   "outputs": [],
   "source": []
  }
 ],
 "metadata": {
  "kernelspec": {
   "display_name": "Python 3 (ipykernel)",
   "language": "python",
   "name": "python3"
  },
  "language_info": {
   "codemirror_mode": {
    "name": "ipython",
    "version": 3
   },
   "file_extension": ".py",
   "mimetype": "text/x-python",
   "name": "python",
   "nbconvert_exporter": "python",
   "pygments_lexer": "ipython3",
   "version": "3.10.6"
  }
 },
 "nbformat": 4,
 "nbformat_minor": 5
}
